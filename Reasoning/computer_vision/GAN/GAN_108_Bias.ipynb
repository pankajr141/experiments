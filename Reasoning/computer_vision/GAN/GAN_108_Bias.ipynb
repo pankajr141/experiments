{
  "nbformat": 4,
  "nbformat_minor": 0,
  "metadata": {
    "colab": {
      "name": "GAN_108_Bias.ipynb",
      "provenance": [],
      "collapsed_sections": [],
      "authorship_tag": "ABX9TyMwaK2OV2T7npbOMow+uKoX",
      "include_colab_link": true
    },
    "kernelspec": {
      "name": "python3",
      "display_name": "Python 3"
    },
    "language_info": {
      "name": "python"
    },
    "accelerator": "GPU"
  },
  "cells": [
    {
      "cell_type": "markdown",
      "metadata": {
        "id": "view-in-github",
        "colab_type": "text"
      },
      "source": [
        "<a href=\"https://colab.research.google.com/github/pankajr141/experiments/blob/master/Reasoning/GAN/GAN_108_Bias.ipynb\" target=\"_parent\"><img src=\"https://colab.research.google.com/assets/colab-badge.svg\" alt=\"Open In Colab\"/></a>"
      ]
    },
    {
      "cell_type": "markdown",
      "metadata": {
        "id": "K_iODDBa-8bW"
      },
      "source": [
        "## Bias\n",
        "\n",
        "The notebook implements code to evaluate GANs\n",
        "\n",
        "Here are the main features\n",
        "\n",
        "* Be able to distinguish a few different kinds of bias in terms of demographic parity, equality of odds, and equality of opportunity (as proposed here).\n",
        "* Be able to use a classifier to try and detect biases in a GAN by analyzing the generator's implicit associations.\n",
        "\n",
        "\n",
        "---\n",
        "\n",
        "### Task\n",
        "Celeb Dataset, BIAS.\n",
        "\n",
        "### Reference\n",
        "https://nbviewer.org/github/amanchadha/coursera-gan-specialization/blob/main/C2%20-%20Build%20Better%20Generative%20Adversarial%20Networks/Week%202/C2W2_Assignment.ipynb"
      ]
    },
    {
      "cell_type": "markdown",
      "metadata": {
        "id": "Pf6qohtU_H6b"
      },
      "source": [
        "## Getting Started"
      ]
    },
    {
      "cell_type": "markdown",
      "metadata": {
        "id": "OV9qUjiS_OIW"
      },
      "source": [
        "### Packages and Visualization\n"
      ]
    },
    {
      "cell_type": "code",
      "metadata": {
        "id": "Vw8pTgWM_L6O"
      },
      "source": [
        "import torch\n",
        "import numpy as np\n",
        "from torch import nn\n",
        "from tqdm.auto import tqdm\n",
        "from torchvision import transforms\n",
        "from torchvision.utils import make_grid\n",
        "from torchvision.datasets import CelebA\n",
        "from torch.utils.data import DataLoader\n",
        "import matplotlib.pyplot as plt\n",
        "torch.manual_seed(0) # Set for our testing purposes, please do not change!\n",
        "\n",
        "def show_tensor_images(image_tensor, num_images=16, size=(3, 64, 64), nrow=3):\n",
        "    '''\n",
        "    Function for visualizing images: Given a tensor of images, number of images,\n",
        "    size per image, and images per row, plots and prints the images in an uniform grid.\n",
        "    '''\n",
        "    image_tensor = (image_tensor + 1) / 2\n",
        "    image_unflat = image_tensor.detach().cpu()\n",
        "    image_grid = make_grid(image_unflat[:num_images], nrow=nrow)\n",
        "    plt.imshow(image_grid.permute(1, 2, 0).squeeze())\n",
        "    plt.show()"
      ],
      "execution_count": 1,
      "outputs": []
    },
    {
      "cell_type": "markdown",
      "metadata": {
        "id": "0bAFl1Jt_UB4"
      },
      "source": [
        "### Generator and Noise\n"
      ]
    },
    {
      "cell_type": "code",
      "metadata": {
        "id": "jP8hE_W4_Syr"
      },
      "source": [
        "class Generator(nn.Module):\n",
        "    '''\n",
        "    Generator Class\n",
        "    Values:\n",
        "        z_dim: the dimension of the noise vector, a scalar\n",
        "        im_chan: the number of channels in the images, fitted for the dataset used, a scalar\n",
        "              (CelebA is rgb, so 3 is your default)\n",
        "        hidden_dim: the inner dimension, a scalar\n",
        "    '''\n",
        "    def __init__(self, z_dim=10, im_chan=3, hidden_dim=64):\n",
        "        super(Generator, self).__init__()\n",
        "        self.z_dim = z_dim\n",
        "        # Build the neural network\n",
        "        self.gen = nn.Sequential(\n",
        "            self.make_gen_block(z_dim, hidden_dim * 8),\n",
        "            self.make_gen_block(hidden_dim * 8, hidden_dim * 4),\n",
        "            self.make_gen_block(hidden_dim * 4, hidden_dim * 2),\n",
        "            self.make_gen_block(hidden_dim * 2, hidden_dim),\n",
        "            self.make_gen_block(hidden_dim, im_chan, kernel_size=4, final_layer=True),\n",
        "        )\n",
        "\n",
        "    def make_gen_block(self, input_channels, output_channels, kernel_size=3, stride=2, final_layer=False):\n",
        "        '''\n",
        "        Function to return a sequence of operations corresponding to a generator block of DCGAN;\n",
        "        a transposed convolution, a batchnorm (except in the final layer), and an activation.\n",
        "        Parameters:\n",
        "            input_channels: how many channels the input feature representation has\n",
        "            output_channels: how many channels the output feature representation should have\n",
        "            kernel_size: the size of each convolutional filter, equivalent to (kernel_size, kernel_size)\n",
        "            stride: the stride of the convolution\n",
        "            final_layer: a boolean, true if it is the final layer and false otherwise \n",
        "                      (affects activation and batchnorm)\n",
        "        '''\n",
        "        if not final_layer:\n",
        "            return nn.Sequential(\n",
        "                nn.ConvTranspose2d(input_channels, output_channels, kernel_size, stride),\n",
        "                nn.BatchNorm2d(output_channels),\n",
        "                nn.ReLU(inplace=True),\n",
        "            )\n",
        "        else:\n",
        "            return nn.Sequential(\n",
        "                nn.ConvTranspose2d(input_channels, output_channels, kernel_size, stride),\n",
        "                nn.Tanh(),\n",
        "            )\n",
        "\n",
        "    def forward(self, noise):\n",
        "        '''\n",
        "        Function for completing a forward pass of the generator: Given a noise tensor, \n",
        "        returns generated images.\n",
        "        Parameters:\n",
        "            noise: a noise tensor with dimensions (n_samples, z_dim)\n",
        "        '''\n",
        "        x = noise.view(len(noise), self.z_dim, 1, 1)\n",
        "        return self.gen(x)\n",
        "\n",
        "def get_noise(n_samples, z_dim, device='cpu'):\n",
        "    '''\n",
        "    Function for creating noise vectors: Given the dimensions (n_samples, z_dim)\n",
        "    creates a tensor of that shape filled with random numbers from the normal distribution.\n",
        "    Parameters:\n",
        "        n_samples: the number of samples to generate, a scalar\n",
        "        z_dim: the dimension of the noise vector, a scalar\n",
        "        device: the device type\n",
        "    '''\n",
        "    return torch.randn(n_samples, z_dim, device=device)"
      ],
      "execution_count": 2,
      "outputs": []
    },
    {
      "cell_type": "markdown",
      "metadata": {
        "id": "7T2jFf1e_jey"
      },
      "source": [
        "### classfier"
      ]
    },
    {
      "cell_type": "code",
      "metadata": {
        "id": "ct9xvlxv_oCn"
      },
      "source": [
        "class Classifier(nn.Module):\n",
        "    '''\n",
        "    Classifier Class\n",
        "    Values:\n",
        "        im_chan: the number of channels in the images, fitted for the dataset used, a scalar\n",
        "              (CelebA is rgb, so 3 is your default)\n",
        "        n_classes: the total number of classes in the dataset, an integer scalar\n",
        "        hidden_dim: the inner dimension, a scalar\n",
        "    '''\n",
        "    def __init__(self, im_chan=3, n_classes=2, hidden_dim=64):\n",
        "        super(Classifier, self).__init__()\n",
        "        self.classifier = nn.Sequential(\n",
        "            self.make_classifier_block(im_chan, hidden_dim),\n",
        "            self.make_classifier_block(hidden_dim, hidden_dim * 2),\n",
        "            self.make_classifier_block(hidden_dim * 2, hidden_dim * 4, stride=3),\n",
        "            self.make_classifier_block(hidden_dim * 4, n_classes, final_layer=True),\n",
        "        )\n",
        "\n",
        "    def make_classifier_block(self, input_channels, output_channels, kernel_size=4, stride=2, final_layer=False):\n",
        "        '''\n",
        "        Function to return a sequence of operations corresponding to a classifier block; \n",
        "        a convolution, a batchnorm (except in the final layer), and an activation (except in the final layer).\n",
        "        Parameters:\n",
        "            input_channels: how many channels the input feature representation has\n",
        "            output_channels: how many channels the output feature representation should have\n",
        "            kernel_size: the size of each convolutional filter, equivalent to (kernel_size, kernel_size)\n",
        "            stride: the stride of the convolution\n",
        "            final_layer: a boolean, true if it is the final layer and false otherwise \n",
        "                      (affects activation and batchnorm)\n",
        "        '''\n",
        "        if not final_layer:\n",
        "            return nn.Sequential(\n",
        "                nn.Conv2d(input_channels, output_channels, kernel_size, stride),\n",
        "                nn.BatchNorm2d(output_channels),\n",
        "                nn.LeakyReLU(0.2, inplace=True),\n",
        "            )\n",
        "        else:\n",
        "            return nn.Sequential(\n",
        "                nn.Conv2d(input_channels, output_channels, kernel_size, stride),\n",
        "            )\n",
        "\n",
        "    def forward(self, image):\n",
        "        '''\n",
        "        Function for completing a forward pass of the classifier: Given an image tensor, \n",
        "        returns an n_classes-dimension tensor representing classes.\n",
        "        Parameters:\n",
        "            image: a flattened image tensor with im_chan channels\n",
        "        '''\n",
        "        class_pred = self.classifier(image)\n",
        "        return class_pred.view(len(class_pred), -1)"
      ],
      "execution_count": 3,
      "outputs": []
    },
    {
      "cell_type": "markdown",
      "metadata": {
        "id": "GcJ5uFAN_rjK"
      },
      "source": [
        "### Specifying Parameters\n"
      ]
    },
    {
      "cell_type": "code",
      "metadata": {
        "id": "Sjt4t7cTAKr2"
      },
      "source": [
        "z_dim = 64\n",
        "batch_size = 128\n",
        "device = 'cuda'"
      ],
      "execution_count": 6,
      "outputs": []
    },
    {
      "cell_type": "markdown",
      "metadata": {
        "id": "UIfqIAQ2_zV9"
      },
      "source": [
        "### Loading the Pre-trained Models\n",
        "\n",
        "You can now load the pre-trained generator (trained on CelebA) and classifier using the following code. If you trained your own classifier, you can load that one here instead. However, it is suggested that you first go through the assignment using the pre-trained one."
      ]
    },
    {
      "cell_type": "code",
      "metadata": {
        "colab": {
          "base_uri": "https://localhost:8080/"
        },
        "id": "fih5AxUyATHw",
        "outputId": "373ac96f-c0d3-4f7f-9e42-ef54165e6ab0"
      },
      "source": [
        "!git clone https://github.com/pankajr141/experiments.git\n",
        "!unzip experiments/Reasoning/GAN/pretrained_models/pretrained_celeba.pth.zip\n",
        "!unzip experiments/Reasoning/GAN/pretrained_models/pretrained_classifier.pth.zip"
      ],
      "execution_count": 8,
      "outputs": [
        {
          "output_type": "stream",
          "name": "stdout",
          "text": [
            "Cloning into 'experiments'...\n",
            "remote: Enumerating objects: 325, done.\u001b[K\n",
            "remote: Counting objects: 100% (158/158), done.\u001b[K\n",
            "remote: Compressing objects: 100% (147/147), done.\u001b[K\n",
            "remote: Total 325 (delta 80), reused 26 (delta 10), pack-reused 167\u001b[K\n",
            "Receiving objects: 100% (325/325), 85.21 MiB | 19.66 MiB/s, done.\n",
            "Resolving deltas: 100% (163/163), done.\n",
            "Archive:  experiments/Reasoning/GAN/pretrained_models/pretrained_celeba.pth.zip\n",
            "  inflating: pretrained_celeba.pth   \n",
            "Archive:  experiments/Reasoning/GAN/pretrained_models/pretrained_classifier.pth.zip\n",
            "  inflating: pretrained_classifier.pth  \n"
          ]
        }
      ]
    },
    {
      "cell_type": "code",
      "metadata": {
        "colab": {
          "base_uri": "https://localhost:8080/"
        },
        "id": "PKRyT89A_5Q0",
        "outputId": "0d8bb735-d1a2-4769-c367-f1acc23a716e"
      },
      "source": [
        "import torch\n",
        "gen = Generator(z_dim).to(device)\n",
        "gen_dict = torch.load(\"pretrained_celeba.pth\", map_location=torch.device(device))[\"gen\"]\n",
        "gen.load_state_dict(gen_dict)\n",
        "gen.eval()\n",
        "\n",
        "n_classes = 40\n",
        "classifier = Classifier(n_classes=n_classes).to(device)\n",
        "class_dict = torch.load(\"pretrained_classifier.pth\", map_location=torch.device(device))[\"classifier\"]\n",
        "classifier.load_state_dict(class_dict)\n",
        "classifier.eval()\n",
        "print(\"Loaded the models!\")\n",
        "\n",
        "opt = torch.optim.Adam(classifier.parameters(), lr=0.01)"
      ],
      "execution_count": 9,
      "outputs": [
        {
          "output_type": "stream",
          "name": "stdout",
          "text": [
            "Loaded the models!\n"
          ]
        }
      ]
    },
    {
      "cell_type": "markdown",
      "metadata": {
        "id": "6vQTjLQWAbwV"
      },
      "source": [
        "### Feature Correlation\n",
        "\n",
        "We can generate images using the generator. By also using the classifier, we will be generating images with different amounts of the \"male\" feature."
      ]
    },
    {
      "cell_type": "code",
      "metadata": {
        "id": "bhCjJZTnAk9g"
      },
      "source": [
        "# First you generate a bunch of fake images with the generator\n",
        "n_images = 256\n",
        "fake_image_history = []\n",
        "classification_history = []\n",
        "grad_steps = 30 # How many gradient steps to take\n",
        "skip = 2 # How many gradient steps to skip in the visualization\n",
        "\n",
        "feature_names = [\"5oClockShadow\", \"ArchedEyebrows\", \"Attractive\", \"BagsUnderEyes\", \"Bald\", \"Bangs\",\n",
        "\"BigLips\", \"BigNose\", \"BlackHair\", \"BlondHair\", \"Blurry\", \"BrownHair\", \"BushyEyebrows\", \"Chubby\",\n",
        "\"DoubleChin\", \"Eyeglasses\", \"Goatee\", \"GrayHair\", \"HeavyMakeup\", \"HighCheekbones\", \"Male\", \n",
        "\"MouthSlightlyOpen\", \"Mustache\", \"NarrowEyes\", \"NoBeard\", \"OvalFace\", \"PaleSkin\", \"PointyNose\", \n",
        "\"RecedingHairline\", \"RosyCheeks\", \"Sideburn\", \"Smiling\", \"StraightHair\", \"WavyHair\", \"WearingEarrings\", \n",
        "\"WearingHat\", \"WearingLipstick\", \"WearingNecklace\", \"WearingNecktie\", \"Young\"]\n",
        "\n",
        "target_feature = \"Male\" # Set the target feature\n",
        "target_indices = feature_names.index(target_feature)\n",
        "\n",
        "noise = get_noise(n_images, z_dim).to(device)\n",
        "new_noise = noise.clone().requires_grad_()\n",
        "starting_classifications = classifier(gen(new_noise)).cpu().detach()\n",
        "\n",
        "# Additive direction (more of a feature)\n",
        "for i in range(grad_steps):\n",
        "    opt.zero_grad()\n",
        "    fake = gen(new_noise)\n",
        "    fake_image_history += [fake]  # saving image\n",
        "    classifications = classifier(fake)\n",
        "    classification_history += [classifications.cpu().detach()]\n",
        "    fake_classes = classifications[:, target_indices].mean()\n",
        "    fake_classes.backward()\n",
        "    new_noise.data += new_noise.grad / grad_steps\n",
        "\n",
        "# Subtractive direction (less of a feature)\n",
        "new_noise = noise.clone().requires_grad_()\n",
        "for i in range(grad_steps):\n",
        "    opt.zero_grad()\n",
        "    fake = gen(new_noise)\n",
        "    fake_image_history += [fake] # saving image\n",
        "    classifications = classifier(fake)\n",
        "    classification_history += [classifications.cpu().detach()]\n",
        "    fake_classes = classifications[:, target_indices].mean()\n",
        "    fake_classes.backward()\n",
        "    new_noise.data -= new_noise.grad / grad_steps\n",
        "\n",
        "classification_history = torch.stack(classification_history)"
      ],
      "execution_count": 10,
      "outputs": []
    },
    {
      "cell_type": "markdown",
      "metadata": {
        "id": "A92NoGY-Bca4"
      },
      "source": [
        "\n",
        "\n",
        "We've now generated image samples, which have increasing or decreasing amounts of the target feature. We can visualize the way in which that affects other classified features. The x-axis will show you the amount of change in our target feature and the y-axis shows how much the other features change, as detected in those images by the classifier. Together, we will be able to see the covariance of \"male-ness\" and other features.\n",
        "\n",
        "We started off with a set of features that have interesting associations with \"male-ness\", but we are welcome to change the features in other_features with others from feature_names.\n"
      ]
    },
    {
      "cell_type": "code",
      "metadata": {
        "colab": {
          "base_uri": "https://localhost:8080/",
          "height": 489
        },
        "id": "5i2m7OKsBrzx",
        "outputId": "44039424-0c7c-4974-814b-f7585325e868"
      },
      "source": [
        "import seaborn as sns\n",
        "# Set the other features\n",
        "other_features = [\"Smiling\", \"Bald\", \"Young\", \"HeavyMakeup\", \"Attractive\"]\n",
        "classification_changes = (classification_history - starting_classifications[None, :, :]).numpy()\n",
        "for other_feature in other_features:\n",
        "    other_indices = feature_names.index(other_feature)\n",
        "    with sns.axes_style(\"darkgrid\"):\n",
        "        sns.regplot(\n",
        "            classification_changes[:, :, target_indices].reshape(-1), \n",
        "            classification_changes[:, :, other_indices].reshape(-1), \n",
        "            fit_reg=True,\n",
        "            truncate=True,\n",
        "            ci=99,\n",
        "            x_ci=99,\n",
        "            x_bins=len(classification_history),\n",
        "            label=other_feature\n",
        "        )\n",
        "plt.xlabel(target_feature)\n",
        "plt.ylabel(\"Other Feature\")\n",
        "plt.title(f\"Generator Biases: Features vs {target_feature}-ness\")\n",
        "plt.legend(loc=1)\n",
        "plt.show()"
      ],
      "execution_count": 11,
      "outputs": [
        {
          "output_type": "stream",
          "name": "stderr",
          "text": [
            "/usr/local/lib/python3.7/dist-packages/seaborn/_decorators.py:43: FutureWarning: Pass the following variables as keyword args: x, y. From version 0.12, the only valid positional argument will be `data`, and passing other arguments without an explicit keyword will result in an error or misinterpretation.\n",
            "  FutureWarning\n",
            "/usr/local/lib/python3.7/dist-packages/seaborn/_decorators.py:43: FutureWarning: Pass the following variables as keyword args: x, y. From version 0.12, the only valid positional argument will be `data`, and passing other arguments without an explicit keyword will result in an error or misinterpretation.\n",
            "  FutureWarning\n",
            "/usr/local/lib/python3.7/dist-packages/seaborn/_decorators.py:43: FutureWarning: Pass the following variables as keyword args: x, y. From version 0.12, the only valid positional argument will be `data`, and passing other arguments without an explicit keyword will result in an error or misinterpretation.\n",
            "  FutureWarning\n",
            "/usr/local/lib/python3.7/dist-packages/seaborn/_decorators.py:43: FutureWarning: Pass the following variables as keyword args: x, y. From version 0.12, the only valid positional argument will be `data`, and passing other arguments without an explicit keyword will result in an error or misinterpretation.\n",
            "  FutureWarning\n",
            "/usr/local/lib/python3.7/dist-packages/seaborn/_decorators.py:43: FutureWarning: Pass the following variables as keyword args: x, y. From version 0.12, the only valid positional argument will be `data`, and passing other arguments without an explicit keyword will result in an error or misinterpretation.\n",
            "  FutureWarning\n"
          ]
        },
        {
          "output_type": "display_data",
          "data": {
            "image/png": "[encoded data removed]",
            "text/plain": [
              "<Figure size 432x288 with 1 Axes>"
            ]
          },
          "metadata": {}
        }
      ]
    },
    {
      "cell_type": "markdown",
      "metadata": {
        "id": "xopQv-5pCQjS"
      },
      "source": [
        "This correlation detection can be used to reduce bias by penalizing this type of correlation in the loss during the training of the generator. However, currently there is no rigorous and accepted solution for debiasing GANs. A first step that you can take in the right direction comes before training the model: make sure that your dataset is inclusive and representative, and consider how you can mitigate the biases resulting from whatever data collection method you used—for example, getting a representative labelers for your task.\n",
        "\n",
        "A diverse dataset alone is not enough to eliminate bias. Even diverse datasets can reinforce existing structural biases by simply capturing common social biases. Mitigating these biases is an important and active area of research.\n",
        "\n",
        "**Note on CelebA**\n",
        "You may have noticed that there are obvious correlations between the feature you are using, \"male\", and other seemingly unrelates features, \"smiling\" and \"young\" for example. This is because the CelebA dataset labels had no serious consideration for diversity. The data represents the biases their labelers, the dataset creators, the social biases as a result of using a dataset based on American celebrities, and many others."
      ]
    },
    {
      "cell_type": "markdown",
      "metadata": {
        "id": "fyJ132g5Cy1s"
      },
      "source": [
        "### Quantification\n",
        "\n",
        "Given a target index, for example corresponding to \"male,\" you'll want to return the other features that covary with that target feature the most. You'll want to account for both large negative and positive covariances, and you'll want to avoid returning the target feature in your list of covarying features (since a feature will often have a high covariance with itself)."
      ]
    },
    {
      "cell_type": "code",
      "metadata": {
        "id": "EOHn6KxPDEb4"
      },
      "source": [
        "from torch.distributions import MultivariateNormal\n",
        "def covariance_matrix_from_examples(examples):\n",
        "    \"\"\"\n",
        "    Helper function for get_top_covariances to calculate a covariance matrix. \n",
        "    Parameter: examples: a list of steps corresponding to samples of shape (2 * grad_steps, n_images, n_features)\n",
        "    Returns: the (n_features, n_features) covariance matrix from the examples\n",
        "    \"\"\"\n",
        "    return np.cov(examples.reshape(-1, examples.shape[2]), rowvar=False)\n",
        "\n",
        "# helper function to return the indices of a numpy array in order of magnitude.\n",
        "def get_top_magnitude_indices(values):\n",
        "    \"\"\"\n",
        "    Helper function for get_top_covariances to get indices by magnitude. \n",
        "    Parameter: values, a list of values as a numpy array of shape (n_values)\n",
        "    Returns: numpy array of indices sorted from greatest to least by the magnitudes of their corresponding values\n",
        "    \"\"\"\n",
        "    top_indices = np.abs(values).argsort()[::-1]\n",
        "    return top_indices\n",
        "\n",
        "# helper function to return a list with an element removed by the value, in an unchanged order.\n",
        "def remove_from_list(indices, index_to_remove):\n",
        "    \"\"\"\n",
        "    Helper function for get_top_covariances to remove an index from an array. \n",
        "    Parameter: indices, a list of indices as a numpy array of shape (n_indices)\n",
        "    Returns: the numpy array of indices in the same order without index_to_remove\n",
        "    \"\"\"\n",
        "    new_indices = np.delete(indices, np.where(indices ==index_to_remove))\n",
        "    return new_indices"
      ],
      "execution_count": 12,
      "outputs": []
    },
    {
      "cell_type": "code",
      "metadata": {
        "id": "3Oz0IhxFDd_h"
      },
      "source": [
        "# putting above functions together\n",
        "def get_top_covariances(classification_changes, target_index, top_n=10):\n",
        "    '''\n",
        "    Function for getting the top n covariances: Given a list of classification changes\n",
        "    and the index of the target feature, returns \n",
        "    (1) relevant_indices: a list or tensor (numpy or torch) of the indices corresponding \n",
        "        to the n features that covary most with the target in terms of absolute covariance\n",
        "    (2) highest_covariances: a list or tensor of the degrees to which they covary.\n",
        "    Parameters:\n",
        "        classification_changes: relative changes in classifications of each generated image \n",
        "          resulting from optimizing the target feature (see above for a visualization)\n",
        "        target_index: the index of the target feature, a scalar\n",
        "        top_n: the top most number of elements to return, default is 10\n",
        "    '''\n",
        "    cov_matrix = covariance_matrix_from_examples(classification_changes)\n",
        "    relevant_indices = get_top_magnitude_indices(cov_matrix[target_index, :])\n",
        "    #relevant_indices = remove_from_list(relevant_indices, target_index) # uncomment to remove Male from printing\n",
        "    relevant_indices = relevant_indices[:top_n]\n",
        "    highest_covariances = cov_matrix[:, relevant_indices][target_index]\n",
        "    return relevant_indices, highest_covariances"
      ],
      "execution_count": 15,
      "outputs": []
    },
    {
      "cell_type": "markdown",
      "metadata": {
        "id": "Xl92zZ_YD5Ke"
      },
      "source": [
        "print top related(+ve) and unrelated(-ve) features"
      ]
    },
    {
      "cell_type": "code",
      "metadata": {
        "colab": {
          "base_uri": "https://localhost:8080/"
        },
        "id": "LvEq8eB9DxvD",
        "outputId": "335592e6-1b0d-427a-93ed-67749f4951ea"
      },
      "source": [
        "relevant_indices, highest_covariances = get_top_covariances(classification_changes, target_indices, top_n=10)\n",
        "print(relevant_indices)\n",
        "for index, covariance in zip(relevant_indices, highest_covariances):\n",
        "    print(f\"{feature_names[index]}  {covariance:f}\")"
      ],
      "execution_count": 16,
      "outputs": [
        {
          "output_type": "stream",
          "name": "stdout",
          "text": [
            "[20 36 18 24  0 30 22 16 38  9]\n",
            "Male  4.691558\n",
            "WearingLipstick  -2.550308\n",
            "HeavyMakeup  -2.362170\n",
            "NoBeard  -2.208743\n",
            "5oClockShadow  1.809830\n",
            "Sideburn  1.737517\n",
            "Mustache  1.723912\n",
            "Goatee  1.636087\n",
            "WearingNecktie  1.492556\n",
            "BlondHair  -1.123135\n"
          ]
        }
      ]
    }
  ]
}