{
  "nbformat": 4,
  "nbformat_minor": 0,
  "metadata": {
    "colab": {
      "name": "GAN_109_StyleGAN-Components.ipynb",
      "provenance": [],
      "collapsed_sections": [],
      "authorship_tag": "ABX9TyMpslbNXhlAZ4ik1ju/Rf9Z",
      "include_colab_link": true
    },
    "kernelspec": {
      "name": "python3",
      "display_name": "Python 3"
    },
    "language_info": {
      "name": "python"
    },
    "accelerator": "GPU"
  },
  "cells": [
    {
      "cell_type": "markdown",
      "metadata": {
        "id": "view-in-github",
        "colab_type": "text"
      },
      "source": [
        "<a href=\"https://colab.research.google.com/github/pankajr141/experiments/blob/master/Reasoning/GAN/GAN_109_StyleGAN_Components.ipynb\" target=\"_parent\"><img src=\"https://colab.research.google.com/assets/colab-badge.svg\" alt=\"Open In Colab\"/></a>"
      ]
    },
    {
      "cell_type": "markdown",
      "metadata": {
        "id": "C3HdmxeSW3L2"
      },
      "source": [
        "## StyleGAN Components\n",
        "\n",
        "The notebook implements code to implement various components of StyleGAN including\n",
        "* truncation trick\n",
        "* mapping layer\n",
        "* noise injection\n",
        "* adaptive instance normalization (AdaIN)\n",
        "* progressive growing\n",
        "\n",
        "Here are the main features\n",
        "\n",
        "* Understand the components of StyleGAN that differ from the traditional GAN\n",
        "* Implement the components of StyleGAN.\n",
        "\n",
        "---\n",
        "\n",
        "### Task\n",
        "Celeb Dataset, evaluate model using FID.\n",
        "\n",
        "### Reference\n",
        "https://nbviewer.org/github/amanchadha/coursera-gan-specialization/blob/main/C2%20-%20Build%20Better%20Generative%20Adversarial%20Networks/Week%203/C2W3_Assignment.ipynb#Components-of-StyleGAN"
      ]
    },
    {
      "cell_type": "markdown",
      "metadata": {
        "id": "XkJ4cIZQXX23"
      },
      "source": [
        "### Getting started"
      ]
    },
    {
      "cell_type": "code",
      "metadata": {
        "id": "lFBo3OxzWwjA"
      },
      "source": [
        "import torch\n",
        "import torch.nn as nn\n",
        "import torch.nn.functional as F\n",
        "\n",
        "def show_tensor_images(image_tensor, num_images=16, size=(3, 64, 64), nrow=3):\n",
        "    '''\n",
        "    Function for visualizing images: Given a tensor of images, number of images,\n",
        "    size per image, and images per row, plots and prints the images in an uniform grid.\n",
        "    '''\n",
        "    image_tensor = (image_tensor + 1) / 2\n",
        "    image_unflat = image_tensor.detach().cpu().clamp_(0, 1)\n",
        "    image_grid = make_grid(image_unflat[:num_images], nrow=nrow, padding=0)\n",
        "    plt.imshow(image_grid.permute(1, 2, 0).squeeze())\n",
        "    plt.axis('off')\n",
        "    plt.show()"
      ],
      "execution_count": 1,
      "outputs": []
    },
    {
      "cell_type": "markdown",
      "metadata": {
        "id": "oRfuAH1KXiw3"
      },
      "source": [
        "### Truncation Trick\n",
        "\n",
        "The first component we will implement is the truncation trick. Remember that this is done after the model is trained and when we are sampling beautiful outputs. The truncation trick resamples the noise vector z from a truncated normal distribution which allows us to tune the generator's fidelity/diversity. The truncation value is at least 0, where 1 means there is little truncation (high diversity) and 0 means the distribution is all truncated except for the mean (high quality/fidelity). This trick is not exclusive to StyleGAN. In fact, we may recall playing with it in an earlier GAN notebook."
      ]
    },
    {
      "cell_type": "code",
      "metadata": {
        "id": "4lvD6BiWXb_P"
      },
      "source": [
        "from scipy.stats import truncnorm\n",
        "def get_truncated_noise(n_samples, z_dim, truncation):\n",
        "    '''\n",
        "    Function for creating truncated noise vectors: Given the dimensions (n_samples, z_dim)\n",
        "    and truncation value, creates a tensor of that shape filled with random\n",
        "    numbers from the truncated normal distribution.\n",
        "    Parameters:\n",
        "        n_samples: the number of samples to generate, a scalar\n",
        "        z_dim: the dimension of the noise vector, a scalar\n",
        "        truncation: the truncation value, a non-negative scalar\n",
        "    '''\n",
        "    truncated_noise = truncnorm.rvs(-1*truncation, truncation, size=(n_samples, z_dim))\n",
        "    return torch.Tensor(truncated_noise)"
      ],
      "execution_count": 2,
      "outputs": []
    },
    {
      "cell_type": "markdown",
      "metadata": {
        "id": "HRwd-u6BX1B_"
      },
      "source": [
        "### Mapping z → w\n",
        "\n",
        "The next component we need to implement is the mapping network. It takes the noise vector, z, and maps it to an intermediate noise vector, w. This makes it so z can be represented in a more disentangled space which makes the features easier to control later.\n",
        "\n",
        "The mapping network in StyleGAN is composed of 8 layers, but for our implementation, we will use a neural network with 3 layers. This is to save time training later.\n"
      ]
    },
    {
      "cell_type": "code",
      "metadata": {
        "id": "hCtLdf7FYLwy"
      },
      "source": [
        "class MappingLayers(nn.Module):\n",
        "    '''\n",
        "    Mapping Layers Class\n",
        "    Values:\n",
        "        z_dim: the dimension of the noise vector, a scalar\n",
        "        hidden_dim: the inner dimension, a scalar\n",
        "        w_dim: the dimension of the intermediate noise vector, a scalar\n",
        "    '''\n",
        " \n",
        "    def __init__(self, z_dim, hidden_dim, w_dim):\n",
        "        super().__init__()\n",
        "        self.mapping = nn.Sequential(\n",
        "            # Please write a neural network which takes in tensors of \n",
        "            # shape (n_samples, z_dim) and outputs (n_samples, w_dim)\n",
        "            # with a hidden layer with hidden_dim neurons\n",
        "            nn.Linear(z_dim,hidden_dim),\n",
        "            nn.ReLU(),\n",
        "            nn.Linear(hidden_dim,hidden_dim),\n",
        "            nn.ReLU(),\n",
        "            nn.Linear(hidden_dim, w_dim)\n",
        "        )\n",
        "\n",
        "    def forward(self, noise):\n",
        "        '''\n",
        "        Function for completing a forward pass of MappingLayers: \n",
        "        Given an initial noise tensor, returns the intermediate noise tensor.\n",
        "        Parameters:\n",
        "            noise: a noise tensor with dimensions (n_samples, z_dim)\n",
        "        '''\n",
        "        return self.mapping(noise)\n",
        "    \n",
        "    def get_mapping(self):\n",
        "        return self.mapping"
      ],
      "execution_count": 3,
      "outputs": []
    },
    {
      "cell_type": "markdown",
      "metadata": {
        "id": "pvqXBp1wYSLY"
      },
      "source": [
        "### Random Noise Injection\n",
        "\n",
        "Next, we will implement the random noise injection that occurs before every AdaIN block. To do this, we need to create a noise tensor that is the same size as the current feature map (image).\n",
        "\n",
        "The noise tensor is not entirely random; it is initialized as one random channel that is then multiplied by learned weights for each channel in the image. For example, imagine an image has 512 channels and its height and width are (4 x 4). We would first create a random (4 x 4) noise matrix with one channel. Then, our model would create 512 values—one for each channel. Next, we multiply the (4 x 4) matrix by each one of these values. This creates a \"random\" tensor of 512 channels and (4 x 4) pixels, the same dimensions as the image. Finally, we will add this noise tensor to the image. This introduces uncorrelated noise and is meant to increase the diversity in the image.\n",
        "\n",
        "New starting weights are generated for every new layer, or generator, where this class is used. Within a layer, every following time the noise injection is called, we take another step with the optimizer and the weights that we use for each channel are optimized (i.e. learned)."
      ]
    },
    {
      "cell_type": "code",
      "metadata": {
        "id": "tsLVEn1fY5Hm"
      },
      "source": [
        "class InjectNoise(nn.Module):\n",
        "    '''\n",
        "    Inject Noise Class\n",
        "    Values:\n",
        "        channels: the number of channels the image has, a scalar\n",
        "    '''\n",
        "    def __init__(self, channels):\n",
        "        super().__init__()\n",
        "        self.weight = nn.Parameter( # You use nn.Parameter so that these weights can be optimized\n",
        "            # Initiate the weights for the channels from a random normal distribution\n",
        "            torch.randn(channels)[None, :, None, None] #torch.randn((1,channels,1,1))\n",
        "        )\n",
        "\n",
        "    def forward(self, image):\n",
        "        '''\n",
        "        Function for completing a forward pass of InjectNoise: Given an image, \n",
        "        returns the image with random noise added.\n",
        "        Parameters:\n",
        "            image: the feature map of shape (n_samples, channels, width, height)\n",
        "        '''\n",
        "        # Set the appropriate shape for the noise!\n",
        "        noise_shape = (image.shape[0], 1, image.shape[2], image.shape[3])\n",
        "\n",
        "        noise = torch.randn(noise_shape, device=image.device) # Creates the random noise\n",
        "        return image + self.weight * noise # Applies to image after multiplying by the weight for each channel\n",
        "    \n",
        "    def get_weight(self):\n",
        "        return self.weight\n",
        "    \n",
        "    def get_self(self):\n",
        "        return self"
      ],
      "execution_count": 4,
      "outputs": []
    },
    {
      "cell_type": "markdown",
      "metadata": {
        "id": "g8cUCgkOZKSl"
      },
      "source": [
        "## Adaptive Instance Normalization (AdaIN)\n",
        "The next component you will implement is AdaIN. To increase control over the image, you inject $w$ — the intermediate noise vector — multiple times throughout StyleGAN. This is done by transforming it into a set of style parameters and introducing the style to the image through AdaIN. Given an image ($x_i$) and the intermediate vector ($w$), AdaIN takes the instance normalization of the image and multiplies it by the style scale ($y_s$) and adds the style bias ($y_b$). You need to calculate the learnable style scale and bias by using linear mappings from $w$.\n",
        "\n",
        "# $ \\text{AdaIN}(\\boldsymbol{\\mathrm{x}}_i, \\boldsymbol{\\mathrm{y}}) = \\boldsymbol{\\mathrm{y}}_{s,i} \\frac{\\boldsymbol{\\mathrm{x}}_i - \\mu(\\boldsymbol{\\mathrm{x}}_i)}{\\sigma(\\boldsymbol{\\mathrm{x}}_i)} + \\boldsymbol{\\mathrm{y}}_{b,i} $"
      ]
    },
    {
      "cell_type": "code",
      "metadata": {
        "id": "Ctyi3_K8ZJ_b"
      },
      "source": [
        "class AdaIN(nn.Module):\n",
        "    '''\n",
        "    AdaIN Class\n",
        "    Values:\n",
        "        channels: the number of channels the image has, a scalar\n",
        "        w_dim: the dimension of the intermediate noise vector, a scalar\n",
        "    '''\n",
        "\n",
        "    def __init__(self, channels, w_dim):\n",
        "        super().__init__()\n",
        "\n",
        "        # Normalize the input per-dimension\n",
        "        self.instance_norm = nn.InstanceNorm2d(channels)\n",
        "\n",
        "        # You want to map w to a set of style weights per channel.\n",
        "        # Replace the Nones with the correct dimensions - keep in mind that \n",
        "        # both linear maps transform a w vector into style weights \n",
        "        # corresponding to the number of image channels.\n",
        "        self.style_scale_transform = nn.Linear(w_dim, channels)\n",
        "        self.style_shift_transform = nn.Linear(w_dim, channels)\n",
        "\n",
        "    def forward(self, image, w):\n",
        "        '''\n",
        "        Function for completing a forward pass of AdaIN: Given an image and intermediate noise vector w, \n",
        "        returns the normalized image that has been scaled and shifted by the style.\n",
        "        Parameters:\n",
        "            image: the feature map of shape (n_samples, channels, width, height)\n",
        "            w: the intermediate noise vector\n",
        "        '''\n",
        "        normalized_image = self.instance_norm(image)\n",
        "        style_scale = self.style_scale_transform(w)[:, :, None, None]\n",
        "        style_shift = self.style_shift_transform(w)[:, :, None, None]\n",
        "        \n",
        "        # Calculate the transformed image\n",
        "        transformed_image = style_scale * normalized_image + style_shift\n",
        "        return transformed_image\n",
        "    \n",
        "    def get_style_scale_transform(self):\n",
        "        return self.style_scale_transform\n",
        "    \n",
        "    def get_style_shift_transform(self):\n",
        "        return self.style_shift_transform\n",
        "    \n",
        "    def get_self(self):\n",
        "        return self "
      ],
      "execution_count": 5,
      "outputs": []
    },
    {
      "cell_type": "markdown",
      "metadata": {
        "id": "pWtebY7Eb1al"
      },
      "source": [
        "### Progressive Growing in StyleGAN\n",
        "\n",
        "The final StyleGAN component that we will create is progressive growing. This helps StyleGAN to create high resolution images by gradually doubling the image's size until the desired size.\n",
        "\n",
        "we will start by creating a block for the StyleGAN generator. This is comprised of an upsampling layer, a convolutional layer, random noise injection, an AdaIN layer, and an activation."
      ]
    },
    {
      "cell_type": "code",
      "metadata": {
        "id": "rTe5BOCBcBgo"
      },
      "source": [
        "class MicroStyleGANGeneratorBlock(nn.Module):\n",
        "    '''\n",
        "    Micro StyleGAN Generator Block Class\n",
        "    Values:\n",
        "        in_chan: the number of channels in the input, a scalar\n",
        "        out_chan: the number of channels wanted in the output, a scalar\n",
        "        w_dim: the dimension of the intermediate noise vector, a scalar\n",
        "        kernel_size: the size of the convolving kernel\n",
        "        starting_size: the size of the starting image\n",
        "    '''\n",
        "    def __init__(self, in_chan, out_chan, w_dim, kernel_size, starting_size, use_upsample=True):\n",
        "        super().__init__()\n",
        "        self.use_upsample = use_upsample\n",
        "        # Replace the Nones in order to:\n",
        "        # 1. Upsample to the starting_size, bilinearly (https://pytorch.org/docs/master/generated/torch.nn.Upsample.html)\n",
        "        # 2. Create a kernel_size convolution which takes in \n",
        "        #    an image with in_chan and outputs one with out_chan (https://pytorch.org/docs/stable/generated/torch.nn.Conv2d.html)\n",
        "        # 3. Create an object to inject noise\n",
        "        # 4. Create an AdaIN object\n",
        "        # 5. Create a LeakyReLU activation with slope 0.2\n",
        "        \n",
        "        if self.use_upsample:\n",
        "            self.upsample = nn.Upsample((starting_size), mode='bilinear')\n",
        "        self.conv = nn.Conv2d(in_chan, out_chan, kernel_size, padding=1) # Padding is used to maintain the image size\n",
        "        self.inject_noise = InjectNoise(out_chan)\n",
        "        self.adain = AdaIN(out_chan, w_dim)\n",
        "        self.activation = nn.LeakyReLU(0.2)\n",
        "\n",
        "    def forward(self, x, w):\n",
        "        '''\n",
        "        Function for completing a forward pass of MicroStyleGANGeneratorBlock: Given an x and w, \n",
        "        computes a StyleGAN generator block.\n",
        "        Parameters:\n",
        "            x: the input into the generator, feature map of shape (n_samples, channels, width, height)\n",
        "            w: the intermediate noise vector\n",
        "        '''\n",
        "        if self.use_upsample:\n",
        "            x = self.upsample(x)\n",
        "        x = self.conv(x)\n",
        "        x = self.inject_noise(x)\n",
        "        x = self.activation(x)\n",
        "        x = self.adain(x, w)\n",
        "        return x\n",
        "    \n",
        "    def get_self(self):\n",
        "        return self;"
      ],
      "execution_count": 6,
      "outputs": []
    },
    {
      "cell_type": "markdown",
      "metadata": {
        "id": "QRglSy1fb1hc"
      },
      "source": [
        "Now, we can implement progressive growing.\n",
        "\n",
        "StyleGAN starts with a constant 4 x 4 (x 512 channel) tensor which is put through an iteration of the generator without upsampling. The output is some noise that can then be transformed into a blurry 4 x 4 image. This is where the progressive growing process begins. The 4 x 4 noise can be further passed through a generator block with upsampling to produce an 8 x 8 output. However, this will be done gradually.\n",
        "\n",
        "we will simulate progressive growing from an 8 x 8 image to a 16 x 16 image. Instead of simply passing it to the generator block with upsampling, StyleGAN gradually trains the generator to the new size by mixing in an image that was only upsampled. By mixing an upsampled 8 x 8 image (which is 16 x 16) with increasingly more of the 16 x 16 generator output, the generator is more stable as it progressively trains. As such, we will do two separate operations with the 8 x 8 noise:\n",
        "\n",
        "1. Pass it into the next generator block to create an output noise, that we will then transform to an image.\n",
        "2. Transform it into an image and then upsample it to be 16 x 16.\n",
        "\n",
        "we will now have two images that are both double the resolution of the 8 x 8 noise. Then, using an alpha (α\n",
        ") term, we combine the higher resolution images obtained from (1) and (2). We would then pass this into the discriminator and use the feedback to update the weights of your generator. The key here is that the α\n",
        "\n",
        "term is gradually increased until eventually, only the image from (1), the generator, is used. That is your final image or you could continue this process to make a 32 x 32 image or 64 x 64, 128 x 128, etc.\n",
        "\n",
        "This micro model we will implement will visualize what the model outputs at a particular stage of training, for a specific value of α\n",
        ". However to reiterate, in practice, StyleGAN will slowly phase out the upsampled image by increasing the α parameter over many training steps, doing this process repeatedly with larger and larger alpha values until it is 1—at this point, the combined image is solely comprised of the image from the generator block. This method of gradually training the generator increases the stability and fidelity of the model."
      ]
    },
    {
      "cell_type": "code",
      "metadata": {
        "id": "rNSo6_MDdGgD"
      },
      "source": [
        "class MicroStyleGANGenerator(nn.Module):\n",
        "    '''\n",
        "    Micro StyleGAN Generator Class\n",
        "    Values:\n",
        "        z_dim: the dimension of the noise vector, a scalar\n",
        "        map_hidden_dim: the mapping inner dimension, a scalar\n",
        "        w_dim: the dimension of the intermediate noise vector, a scalar\n",
        "        in_chan: the dimension of the constant input, usually w_dim, a scalar\n",
        "        out_chan: the number of channels wanted in the output, a scalar\n",
        "        kernel_size: the size of the convolving kernel\n",
        "        hidden_chan: the inner dimension, a scalar\n",
        "    '''\n",
        "\n",
        "    def __init__(self, \n",
        "                 z_dim, \n",
        "                 map_hidden_dim,\n",
        "                 w_dim,\n",
        "                 in_chan,\n",
        "                 out_chan, \n",
        "                 kernel_size, \n",
        "                 hidden_chan):\n",
        "        super().__init__()\n",
        "        self.map = MappingLayers(z_dim, map_hidden_dim, w_dim)\n",
        "        # Typically this constant is initiated to all ones, but you will initiate to a\n",
        "        # Gaussian to better visualize the network's effect\n",
        "        self.starting_constant = nn.Parameter(torch.randn(1, in_chan, 4, 4))\n",
        "        self.block0 = MicroStyleGANGeneratorBlock(in_chan, hidden_chan, w_dim, kernel_size, 4, use_upsample=False)\n",
        "        self.block1 = MicroStyleGANGeneratorBlock(hidden_chan, hidden_chan, w_dim, kernel_size, 8)\n",
        "        self.block2 = MicroStyleGANGeneratorBlock(hidden_chan, hidden_chan, w_dim, kernel_size, 16)\n",
        "        # You need to have a way of mapping from the output noise to an image, \n",
        "        # so you learn a 1x1 convolution to transform the e.g. 512 channels into 3 channels\n",
        "        # (Note that this is simplified, with clipping used in the real StyleGAN)\n",
        "        self.block1_to_image = nn.Conv2d(hidden_chan, out_chan, kernel_size=1)\n",
        "        self.block2_to_image = nn.Conv2d(hidden_chan, out_chan, kernel_size=1)\n",
        "        self.alpha = 0.2\n",
        "\n",
        "    def upsample_to_match_size(self, smaller_image, bigger_image):\n",
        "        '''\n",
        "        Function for upsampling an image to the size of another: Given a two images (smaller and bigger), \n",
        "        upsamples the first to have the same dimensions as the second.\n",
        "        Parameters:\n",
        "            smaller_image: the smaller image to upsample\n",
        "            bigger_image: the bigger image whose dimensions will be upsampled to\n",
        "        '''\n",
        "        return F.interpolate(smaller_image, size=bigger_image.shape[-2:], mode='bilinear')\n",
        "\n",
        "    def forward(self, noise, return_intermediate=False):\n",
        "        '''\n",
        "        Function for completing a forward pass of MicroStyleGANGenerator: Given noise, \n",
        "        computes a StyleGAN iteration.\n",
        "        Parameters:\n",
        "            noise: a noise tensor with dimensions (n_samples, z_dim)\n",
        "            return_intermediate: a boolean, true to return the images as well (for testing) and false otherwise\n",
        "        '''\n",
        "        x = self.starting_constant\n",
        "        w = self.map(noise)\n",
        "        x = self.block0(x, w)\n",
        "        x_small = self.block1(x, w) # First generator run output\n",
        "        x_small_image = self.block1_to_image(x_small)\n",
        "        x_big = self.block2(x_small, w) # Second generator run output \n",
        "        x_big_image = self.block2_to_image(x_big)\n",
        "        x_small_upsample = self.upsample_to_match_size(x_small_image, x_big_image) # Upsample first generator run output to be same size as second generator run output \n",
        "        # Interpolate between the upsampled image and the image from the generator using alpha\n",
        "        \n",
        "        interpolation = self.alpha * (x_big_image) + (1-self.alpha) * (x_small_upsample)\n",
        "        \n",
        "        if return_intermediate:\n",
        "            return interpolation, x_small_upsample, x_big_image\n",
        "        return interpolation\n",
        "    \n",
        "    def get_self(self):\n",
        "        return self;"
      ],
      "execution_count": 8,
      "outputs": []
    },
    {
      "cell_type": "markdown",
      "metadata": {
        "id": "pCVre7shdyDa"
      },
      "source": [
        "### Running StyleGAN\n",
        "\n",
        "Finally, we can put all the components together to run an iteration of our micro StyleGAN!\n",
        "\n",
        "We can also visualize what this randomly initiated generator can produce. The code will automatically interpolate between different values of alpha so that we can intuitively see what it means to mix the low-resolution and high-resolution images using different values of alpha. In the generated image, the samples start from low alpha values and go to high alpha values."
      ]
    },
    {
      "cell_type": "code",
      "metadata": {
        "id": "QNNlq5h-eDUZ"
      },
      "source": [
        "z_dim = 128\n",
        "out_chan = 3\n",
        "truncation = 0.7"
      ],
      "execution_count": 10,
      "outputs": []
    },
    {
      "cell_type": "code",
      "metadata": {
        "colab": {
          "base_uri": "https://localhost:8080/"
        },
        "id": "b9Wbge3jeJuV",
        "outputId": "d87b4032-b0bc-4062-cbb5-f5b1747e7028"
      },
      "source": [
        "mu_stylegan = MicroStyleGANGenerator(\n",
        "    z_dim=z_dim, \n",
        "    map_hidden_dim=1024,\n",
        "    w_dim=496,\n",
        "    in_chan=512,\n",
        "    out_chan=out_chan, \n",
        "    kernel_size=3, \n",
        "    hidden_chan=256\n",
        ")\n",
        "\n",
        "test_samples = 10\n",
        "test_result = mu_stylegan(get_truncated_noise(test_samples, z_dim, truncation))\n",
        "test_result.shape"
      ],
      "execution_count": 17,
      "outputs": [
        {
          "output_type": "stream",
          "name": "stderr",
          "text": [
            "/usr/local/lib/python3.7/dist-packages/torch/nn/functional.py:3635: UserWarning: Default upsampling behavior when mode=bilinear is changed to align_corners=False since 0.4.0. Please specify align_corners=True if the old behavior is desired. See the documentation of nn.Upsample for details.\n",
            "  \"See the documentation of nn.Upsample for details.\".format(mode)\n"
          ]
        },
        {
          "output_type": "execute_result",
          "data": {
            "text/plain": [
              "torch.Size([10, 3, 16, 16])"
            ]
          },
          "metadata": {},
          "execution_count": 17
        }
      ]
    },
    {
      "cell_type": "code",
      "metadata": {
        "colab": {
          "base_uri": "https://localhost:8080/",
          "height": 504
        },
        "id": "9Nm659k1d8XC",
        "outputId": "79d5d0f0-7ed2-4874-f221-ae169907243f"
      },
      "source": [
        "import numpy as np\n",
        "from torchvision.utils import make_grid\n",
        "import matplotlib.pyplot as plt\n",
        "plt.rcParams['figure.figsize'] = [15, 15]\n",
        "\n",
        "viz_samples = 10\n",
        "# The noise is exaggerated for visual effect\n",
        "viz_noise = get_truncated_noise(viz_samples, z_dim, truncation) * 10\n",
        "\n",
        "mu_stylegan.eval()\n",
        "images = []\n",
        "for alpha in np.linspace(0, 1, num=5):\n",
        "    mu_stylegan.alpha = alpha\n",
        "    viz_result, _, _ =  mu_stylegan(\n",
        "        viz_noise, \n",
        "        return_intermediate=True)\n",
        "    images += [tensor for tensor in viz_result]\n",
        "show_tensor_images(torch.stack(images), nrow=viz_samples, num_images=len(images))\n",
        "mu_stylegan = mu_stylegan.train()"
      ],
      "execution_count": 18,
      "outputs": [
        {
          "output_type": "stream",
          "name": "stderr",
          "text": [
            "/usr/local/lib/python3.7/dist-packages/torch/nn/functional.py:3635: UserWarning: Default upsampling behavior when mode=bilinear is changed to align_corners=False since 0.4.0. Please specify align_corners=True if the old behavior is desired. See the documentation of nn.Upsample for details.\n",
            "  \"See the documentation of nn.Upsample for details.\".format(mode)\n"
          ]
        },
        {
          "output_type": "display_data",
          "data": {
            "image/png": "[encoded data removed]",
            "text/plain": [
              "<Figure size 1080x1080 with 1 Axes>"
            ]
          },
          "metadata": {
            "needs_background": "light"
          }
        }
      ]
    }
  ]
}