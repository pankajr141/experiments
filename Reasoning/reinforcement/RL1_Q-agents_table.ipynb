{
  "nbformat": 4,
  "nbformat_minor": 0,
  "metadata": {
    "colab": {
      "name": "RL- 1 [Q Agents - Table & NN].ipynb",
      "provenance": [],
      "collapsed_sections": [],
      "include_colab_link": true
    },
    "kernelspec": {
      "name": "python3",
      "display_name": "Python 3"
    },
    "accelerator": "TPU"
  },
  "cells": [
    {
      "cell_type": "markdown",
      "metadata": {
        "id": "view-in-github",
        "colab_type": "text"
      },
      "source": [
        "<a href=\"https://colab.research.google.com/github/pankajr141/experiments/blob/master/Reasoning/Reinforcement/Reasoning%20%7BRL%7D%20-%201%3A%20Q_Agents_Table%20%26%20NN.ipynb\" target=\"_parent\"><img src=\"https://colab.research.google.com/assets/colab-badge.svg\" alt=\"Open In Colab\"/></a>"
      ]
    },
    {
      "cell_type": "markdown",
      "metadata": {
        "id": "OZDPm-5Dg8T0",
        "colab_type": "text"
      },
      "source": [
        "**Source -** https://medium.com/emergent-future/simple-reinforcement-learning-with-tensorflow-part-0-q-learning-with-tables-and-neural-networks-d195264329d0\n",
        "\n",
        "\n",
        "https://neuro.cs.ut.ee/demystifying-deep-reinforcement-learning/"
      ]
    },
    {
      "cell_type": "markdown",
      "metadata": {
        "id": "GsBFofMhoKd7",
        "colab_type": "text"
      },
      "source": [
        "The Goal is to solve the below Problem using Reinforcement Learning."
      ]
    },
    {
      "cell_type": "code",
      "metadata": {
        "id": "d_B7vMJsg3cp",
        "colab_type": "code",
        "colab": {}
      },
      "source": [
        "import gym\n",
        "import numpy as np"
      ],
      "execution_count": 0,
      "outputs": []
    },
    {
      "cell_type": "code",
      "metadata": {
        "id": "iuXa3v3GljsN",
        "colab_type": "code",
        "outputId": "9d10b2ad-c729-425f-968a-c52c2bb609b2",
        "colab": {
          "base_uri": "https://localhost:8080/",
          "height": 102
        }
      },
      "source": [
        "env = gym.make('FrozenLake-v0')\n",
        "env.render()"
      ],
      "execution_count": 0,
      "outputs": [
        {
          "output_type": "stream",
          "text": [
            "\n",
            "\u001b[41mS\u001b[0mFFF\n",
            "FHFH\n",
            "FFFH\n",
            "HFFG\n"
          ],
          "name": "stdout"
        }
      ]
    },
    {
      "cell_type": "markdown",
      "metadata": {
        "id": "kSNdWhV8n5k7",
        "colab_type": "text"
      },
      "source": [
        "## Solution using Tables"
      ]
    },
    {
      "cell_type": "markdown",
      "metadata": {
        "id": "8pY4P8Gql-MZ",
        "colab_type": "text"
      },
      "source": [
        "Here we will try to implement a simple Q learning using Bellman Equation on S x A Matrix, where S(States), A(Action) are parameters.\n",
        "\n",
        "we have 16 possible states (one for each block), and 4 possible actions (the four directions of movement), giving us a 16x4 table of Q-values.\n",
        "\n",
        "\n",
        "\n",
        "\n",
        "---\n",
        "\n",
        "Bellman equation, which states that the expected long-term reward for a given action is equal to the immediate reward from the current action combined with the expected reward from the best future action taken at the following state."
      ]
    },
    {
      "cell_type": "code",
      "metadata": {
        "id": "KCZmP2w2lmpx",
        "colab_type": "code",
        "outputId": "adc12317-673c-4736-ca74-4e2c8d5e89f2",
        "colab": {
          "base_uri": "https://localhost:8080/",
          "height": 357
        }
      },
      "source": [
        "#Initialize table with all zeros\n",
        "Q = np.zeros([env.observation_space.n,env.action_space.n])\n",
        "\n",
        "# Set learning parameters\n",
        "lr = .8\n",
        "y = .95 # Discount on future rewards\n",
        "num_episodes = 2001\n",
        "\n",
        "#create lists to contain total rewards and steps per episode\n",
        "rList = []\n",
        "\n",
        "for i in range(num_episodes):\n",
        "  \n",
        "    #Reset environment and get first new observation\n",
        "    s = env.reset()\n",
        "    rAll = 0\n",
        "    d = False\n",
        "    j = 0\n",
        "    #The Q-Table learning algorithm\n",
        "    while j < 99:\n",
        "      \n",
        "        j+=1\n",
        "        #Choose an action by greedily (with noise) picking from Q table\n",
        "        a = np.argmax(Q[s,:] + np.random.randn(1,env.action_space.n)*(1./(i+1)))\n",
        "        #Get new state and reward from environment\n",
        "        s1, r, d,_ = env.step(a)\n",
        "        #Update Q-Table with new knowledge\n",
        "        Q[s,a] = Q[s,a] + lr*(r + y * np.max(Q[s1,:]) - Q[s,a])\n",
        "        rAll += r\n",
        "        s = s1\n",
        "        if d == True:\n",
        "            break\n",
        "    #jList.append(j)\n",
        "    rList.append(rAll)\n",
        "    if i and i % 100 == 0:\n",
        "      print (\"Score over time: Ep (%d) avg  %f\" % (i, sum(rList[0:i]) / i))"
      ],
      "execution_count": 0,
      "outputs": [
        {
          "output_type": "stream",
          "text": [
            "Score over time: Ep (100) avg  0.080000\n",
            "Score over time: Ep (200) avg  0.135000\n",
            "Score over time: Ep (300) avg  0.250000\n",
            "Score over time: Ep (400) avg  0.350000\n",
            "Score over time: Ep (500) avg  0.406000\n",
            "Score over time: Ep (600) avg  0.443333\n",
            "Score over time: Ep (700) avg  0.477143\n",
            "Score over time: Ep (800) avg  0.503750\n",
            "Score over time: Ep (900) avg  0.518889\n",
            "Score over time: Ep (1000) avg  0.540000\n",
            "Score over time: Ep (1100) avg  0.550909\n",
            "Score over time: Ep (1200) avg  0.557500\n",
            "Score over time: Ep (1300) avg  0.556923\n",
            "Score over time: Ep (1400) avg  0.561429\n",
            "Score over time: Ep (1500) avg  0.566000\n",
            "Score over time: Ep (1600) avg  0.575000\n",
            "Score over time: Ep (1700) avg  0.575882\n",
            "Score over time: Ep (1800) avg  0.575000\n",
            "Score over time: Ep (1900) avg  0.578947\n",
            "Score over time: Ep (2000) avg  0.585500\n"
          ],
          "name": "stdout"
        }
      ]
    },
    {
      "cell_type": "code",
      "metadata": {
        "id": "GdWZeIW5luNE",
        "colab_type": "code",
        "outputId": "83d42d65-016f-45e9-a2e9-31ca581e2663",
        "colab": {
          "base_uri": "https://localhost:8080/",
          "height": 306
        }
      },
      "source": [
        "print(\"Final Q-Table Values\")\n",
        "Q"
      ],
      "execution_count": 0,
      "outputs": [
        {
          "output_type": "stream",
          "text": [
            "Final Q-Table Values\n"
          ],
          "name": "stdout"
        },
        {
          "output_type": "execute_result",
          "data": {
            "text/plain": [
              "array([[3.21358182e-03, 3.15028886e-03, 1.05947225e-01, 3.23515059e-03],\n",
              "       [1.56133148e-03, 1.32661196e-03, 5.05522090e-04, 5.24608463e-02],\n",
              "       [1.92099234e-03, 5.72468861e-04, 9.98522462e-04, 2.62455807e-02],\n",
              "       [2.10938848e-04, 3.88900264e-04, 2.39120315e-05, 1.54611617e-02],\n",
              "       [1.12725732e-01, 4.89212510e-06, 5.21552773e-04, 7.04806937e-04],\n",
              "       [0.00000000e+00, 0.00000000e+00, 0.00000000e+00, 0.00000000e+00],\n",
              "       [2.93895867e-05, 2.36144390e-04, 7.21712383e-03, 5.38217366e-05],\n",
              "       [0.00000000e+00, 0.00000000e+00, 0.00000000e+00, 0.00000000e+00],\n",
              "       [5.44017246e-04, 1.93254501e-03, 5.81177337e-04, 2.94874743e-01],\n",
              "       [1.73472480e-03, 5.85618258e-01, 3.55156209e-04, 1.17055786e-03],\n",
              "       [7.63564504e-02, 8.52494392e-04, 7.80112257e-06, 0.00000000e+00],\n",
              "       [0.00000000e+00, 0.00000000e+00, 0.00000000e+00, 0.00000000e+00],\n",
              "       [0.00000000e+00, 0.00000000e+00, 0.00000000e+00, 0.00000000e+00],\n",
              "       [0.00000000e+00, 0.00000000e+00, 8.47728995e-01, 6.79233263e-03],\n",
              "       [0.00000000e+00, 8.26379417e-01, 0.00000000e+00, 0.00000000e+00],\n",
              "       [0.00000000e+00, 0.00000000e+00, 0.00000000e+00, 0.00000000e+00]])"
            ]
          },
          "metadata": {
            "tags": []
          },
          "execution_count": 4
        }
      ]
    },
    {
      "cell_type": "markdown",
      "metadata": {
        "id": "CyN2WkospUHj",
        "colab_type": "text"
      },
      "source": [
        "## Using Neural Networks\n",
        "\n",
        "Now We can always use tables, but in real world scenario states can be infinite so we cannot create a infinite length table. So we need to go for some approximation, NN provides these approximation."
      ]
    },
    {
      "cell_type": "code",
      "metadata": {
        "id": "OVGbocCZp0AI",
        "colab_type": "code",
        "colab": {}
      },
      "source": [
        "import tensorflow as tf\n",
        "tf.reset_default_graph()\n",
        "\n",
        "#These lines establish the feed-forward part of the network used to choose actions\n",
        "inputs = tf.placeholder(shape=[1, 16],dtype=tf.float32)  # Current state\n",
        "W = tf.Variable(tf.random_uniform([16, 4], 0, 0.01))\n",
        "\n",
        "Qout = tf.matmul(inputs, W)\n",
        "predict = tf.argmax(Qout, 1)\n",
        "\n",
        "#Below we obtain the loss by taking the sum of squares difference between the target and prediction Q values.\n",
        "nextQ = tf.placeholder(shape=[1, 4],dtype=tf.float32)\n",
        "loss = tf.reduce_sum(tf.square(nextQ - Qout))\n",
        "trainer = tf.train.GradientDescentOptimizer(learning_rate=0.1)\n",
        "updateModel = trainer.minimize(loss)"
      ],
      "execution_count": 0,
      "outputs": []
    },
    {
      "cell_type": "code",
      "metadata": {
        "id": "USVjo0MfqSPC",
        "colab_type": "code",
        "outputId": "4ea921ce-ca0b-482b-e692-b70cdfbe491d",
        "colab": {
          "base_uri": "https://localhost:8080/",
          "height": 34
        }
      },
      "source": [
        "init = tf.initialize_all_variables()\n",
        "\n",
        "# Set learning parameters\n",
        "y = .99\n",
        "e = 0.1\n",
        "num_episodes = 2000\n",
        "\n",
        "#create lists to contain total rewards and steps per episode\n",
        "jList = []\n",
        "rList = []\n",
        "\n",
        "with tf.Session() as sess:\n",
        "    sess.run(init)\n",
        "    for i in range(num_episodes):\n",
        "        #Reset environment and get first new observation\n",
        "        s = env.reset()\n",
        "        rAll = 0\n",
        "        d = False # Death\n",
        "        j = 0  # Number of steps in this episode\n",
        "        \n",
        "        #The Q-Network, we are limiting the steps to 100\n",
        "        while j < 99:\n",
        "            j+=1\n",
        "            \n",
        "            ''' \n",
        "            We need few values to feed as per bellman equation \n",
        "            Current state Q values (Q0), Next best state Q value(Q1). Reward Next State (r)\n",
        "            Then Apply Bellman.\n",
        "            '''\n",
        "            \n",
        "            #Choose an action by greedily (with e chance of random action) from the Q-network\n",
        "            # np.identity(16)[s:s+1] is one hot vector with s set as 1 \n",
        "            # Qout Will be 1x4 [[0.00872229 0.00494494 0.00930803 0.00975112]] vector\n",
        "            a, Q0 = sess.run([predict, Qout], feed_dict={inputs: np.identity(16)[s:s+1]})\n",
        "            if np.random.rand(1) < e:\n",
        "                a[0] = env.action_space.sample()\n",
        "            \n",
        "            #Get new state and reward from environment\n",
        "            s_new, r, d, _ = env.step(a[0])\n",
        "            \n",
        "            #Obtain the Q' values by feeding the new state through our network\n",
        "            Q1 = sess.run(Qout, feed_dict={inputs:np.identity(16)[s_new:s_new+1]})\n",
        "            \n",
        "            #Obtain maxQ' and set our target value for chosen action.\n",
        "            maxQ1 = np.max(Q1)\n",
        "            targetQ = Q0\n",
        "            \n",
        "            '''Bellman'''\n",
        "            targetQ[0, a[0]] = r + y * maxQ1 # Current state reward + Discounted (max of future states)\n",
        "            \n",
        "            #Train our network using target and predicted Q values\n",
        "            _, W1 = sess.run([updateModel, W], feed_dict={inputs:np.identity(16)[s:s+1], nextQ:targetQ})\n",
        "            rAll += r\n",
        "            s = s_new\n",
        "            if d == True:\n",
        "                #Reduce chance of random action as we train the model.\n",
        "                e = 1./((i/50) + 10)\n",
        "                break\n",
        "\n",
        "        jList.append(j)\n",
        "        rList.append(rAll)\n",
        "print(\"Percent of succesful episodes: \" + str(sum(rList)/num_episodes) + \"%\")"
      ],
      "execution_count": 0,
      "outputs": [
        {
          "output_type": "stream",
          "text": [
            "Percent of succesful episodes: 0.4945%\n"
          ],
          "name": "stdout"
        }
      ]
    },
    {
      "cell_type": "code",
      "metadata": {
        "id": "AP60fQyoAsLN",
        "colab_type": "code",
        "outputId": "4e009b69-b806-4419-f57c-c954117049cf",
        "colab": {
          "base_uri": "https://localhost:8080/",
          "height": 286
        }
      },
      "source": [
        "import matplotlib.pyplot as plt\n",
        "%matplotlib inline\n",
        "\n",
        "plt.plot(jList)"
      ],
      "execution_count": 0,
      "outputs": [
        {
          "output_type": "execute_result",
          "data": {
            "text/plain": [
              "[<matplotlib.lines.Line2D at 0x7ff35ca29160>]"
            ]
          },
          "metadata": {
            "tags": []
          },
          "execution_count": 18
        },
        {
          "output_type": "display_data",
          "data": {
            "image/png": "[encoded data removed]",
            "text/plain": [
              "<Figure size 432x288 with 1 Axes>"
            ]
          },
          "metadata": {
            "tags": []
          }
        }
      ]
    },
    {
      "cell_type": "markdown",
      "metadata": {
        "id": "7GstU-aN8mqL",
        "colab_type": "text"
      },
      "source": [
        "While the network learns to solve the FrozenLake problem, it turns out it doesn’t do so quite as efficiently as the Q-Table. While neural networks allow for greater flexibility, they do so at the cost of stability when it comes to Q-Learning. There are a number of possible extensions to our simple Q-Network which allow for greater performance and more robust learning. Two tricks in particular are referred to as Experience Replay and Freezing Target Networks."
      ]
    }
  ]
}