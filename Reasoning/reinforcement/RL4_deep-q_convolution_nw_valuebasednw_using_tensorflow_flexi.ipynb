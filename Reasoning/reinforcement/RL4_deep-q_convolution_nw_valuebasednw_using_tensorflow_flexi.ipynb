{
  "nbformat": 4,
  "nbformat_minor": 0,
  "metadata": {
    "colab": {
      "name": "Reasoning {RL} - 4: Deep-Q Convolution nw (Value based nw) - using Tensor - Flexi.ipynb",
      "provenance": [],
      "collapsed_sections": [],
      "include_colab_link": true
    },
    "kernelspec": {
      "name": "python3",
      "display_name": "Python 3"
    },
    "accelerator": "TPU"
  },
  "cells": [
    {
      "cell_type": "markdown",
      "metadata": {
        "id": "view-in-github",
        "colab_type": "text"
      },
      "source": [
        "<a href=\"https://colab.research.google.com/github/pankajr141/experiments/blob/master/Reasoning/Reinforcement/Reasoning%20%7BRL%7D%20-%204%3A%20Deep-Q%20Convolution%20nw%20(Value%20based%20nw)%20-%20using%20Tensor%20-%20Flexi.ipynb\" target=\"_parent\"><img src=\"https://colab.research.google.com/assets/colab-badge.svg\" alt=\"Open In Colab\"/></a>"
      ]
    },
    {
      "cell_type": "markdown",
      "metadata": {
        "id": "dW2eFPp05j0V",
        "colab_type": "text"
      },
      "source": [
        "## Refrences\n",
        "https://medium.com/@awjuliani/simple-reinforcement-learning-with-tensorflow-part-4-deep-q-networks-and-beyond-8438a3e2b8df\n",
        "\n",
        "https://github.com/breeko/Simple-Reinforcement-Learning-with-Tensorflow/blob/master/Part%204%20-%20Deep%20Q-Networks%20and%20Beyond%20with%20Keras.ipynb  -- Keras\n",
        "\n",
        "https://github.com/awjuliani/DeepRL-Agents/blob/master/Double-Dueling-DQN.ipynb -- Tensorflow\n"
      ]
    },
    {
      "cell_type": "markdown",
      "metadata": {
        "id": "HnnDdaK3KyKj",
        "colab_type": "text"
      },
      "source": [
        "Instead of a single layer perceptron or policy based n/w, we will be implmenting DeepQ N/w which are value based learners meaning in bellmon equation we will be learning the value of a given state + advantage of moving from a givent state when some action is performed which is different from policy based n/w where we just update n/w weight and dont care about value of states. \n",
        "\n",
        "**Value function V(s)** - which says simple how good network thinks it is in current state. \n",
        "\n",
        "**Advantage function A(a)** - which tells how much better taking a certain action would be compared to the others.\n",
        "\n",
        "Q(s,a) = V(s) + A(a)   # This Equation will be used heavenly below.\n",
        "\n",
        "\n",
        "### Changes\n",
        "\n",
        "\n",
        "\n",
        "*   **Deep Q - convolution layers**  - here we will consider our input as an image where the whole image is a state and our n/w  will use convolution to know the meaning of states. \n",
        "*   **Experiance Relay** - We will be storing the states into a buffer and later we will sample the buffer to train our n/w on past experiances rather then immediate ones. The size of buffer is limited and is Queue based meaning only recent experiances are retained.\n",
        "*   **Separate Target n/w** - We will have 2 n/w, 1st will generate Q-output values and 2nd will generate target Q values for loss calculations. The frequency of update for 2nd n/w is low compared to 1st, to help stablization. As if 2nd n/w value change whch are used to traing estimate Q values for each iteration system will never get stable 1 needed to be fixed (for certain duration).\n"
      ]
    },
    {
      "cell_type": "code",
      "metadata": {
        "id": "zcyqaJZJ2GSb",
        "colab_type": "code",
        "colab": {}
      },
      "source": [
        "!pip install tensorflow==2.0.0 > /dev/null 2>&1\n",
        "!pip install tensorflow-gpu==2.0.0 > /dev/null 2>&1"
      ],
      "execution_count": 0,
      "outputs": []
    },
    {
      "cell_type": "markdown",
      "metadata": {
        "id": "DkwT052_80nB",
        "colab_type": "text"
      },
      "source": [
        "### Env\n",
        "\n",
        "Grid World Env, no need to study code.\n",
        "\n",
        "In the environment the agent controls a blue square, and the goal is to navigate to the green squares (reward +1) while avoiding the red squares (reward -1).\n"
      ]
    },
    {
      "cell_type": "code",
      "metadata": {
        "id": "kWeV2OyH-SdF",
        "colab_type": "code",
        "colab": {}
      },
      "source": [
        "import numpy as np\n",
        "import random\n",
        "import itertools\n",
        "import scipy.misc\n",
        "import matplotlib.pyplot as plt\n",
        "from PIL import Image\n",
        "\n",
        "class gameOb():\n",
        "    def __init__(self,coordinates,size,intensity,channel,reward,name):\n",
        "        self.x = coordinates[0]\n",
        "        self.y = coordinates[1]\n",
        "        self.size = size\n",
        "        self.intensity = intensity\n",
        "        self.channel = channel\n",
        "        self.reward = reward\n",
        "        self.name = name\n",
        "        \n",
        "class gameEnv():\n",
        "    def __init__(self,partial,size):\n",
        "        self.sizeX = size\n",
        "        self.sizeY = size\n",
        "        self.actions = 4\n",
        "        self.objects = []\n",
        "        self.partial = partial\n",
        "        \n",
        "        a = self.reset()\n",
        "        plt.imshow(a,interpolation=\"nearest\")\n",
        "        \n",
        "        \n",
        "    def reset(self):\n",
        "        self.objects = []\n",
        "        hero = gameOb(self.newPosition(),1,1,2,None,'hero')\n",
        "        self.objects.append(hero)\n",
        "        bug = gameOb(self.newPosition(),1,1,1,1,'goal')\n",
        "        self.objects.append(bug)\n",
        "        hole = gameOb(self.newPosition(),1,1,0,-1,'fire')\n",
        "        self.objects.append(hole)\n",
        "        bug2 = gameOb(self.newPosition(),1,1,1,1,'goal')\n",
        "        self.objects.append(bug2)\n",
        "        hole2 = gameOb(self.newPosition(),1,1,0,-1,'fire')\n",
        "        self.objects.append(hole2)\n",
        "        bug3 = gameOb(self.newPosition(),1,1,1,1,'goal')\n",
        "        self.objects.append(bug3)\n",
        "        bug4 = gameOb(self.newPosition(),1,1,1,1,'goal')\n",
        "        self.objects.append(bug4)\n",
        "        state = self.renderEnv()\n",
        "        self.state = state\n",
        "        return state\n",
        "\n",
        "    def moveChar(self,direction):\n",
        "        # 0 - up, 1 - down, 2 - left, 3 - right\n",
        "        hero = self.objects[0]\n",
        "        heroX = hero.x\n",
        "        heroY = hero.y\n",
        "        penalize = 0.\n",
        "        if direction == 0 and hero.y >= 1:\n",
        "            hero.y -= 1\n",
        "        if direction == 1 and hero.y <= self.sizeY-2:\n",
        "            hero.y += 1\n",
        "        if direction == 2 and hero.x >= 1:\n",
        "            hero.x -= 1\n",
        "        if direction == 3 and hero.x <= self.sizeX-2:\n",
        "            hero.x += 1     \n",
        "        if hero.x == heroX and hero.y == heroY:\n",
        "            penalize = 0.0\n",
        "        self.objects[0] = hero\n",
        "        return penalize\n",
        "    \n",
        "    def newPosition(self):\n",
        "        iterables = [ range(self.sizeX), range(self.sizeY)]\n",
        "        points = []\n",
        "        for t in itertools.product(*iterables):\n",
        "            points.append(t)\n",
        "        currentPositions = []\n",
        "        for objectA in self.objects:\n",
        "            if (objectA.x,objectA.y) not in currentPositions:\n",
        "                currentPositions.append((objectA.x,objectA.y))\n",
        "        for pos in currentPositions:\n",
        "            points.remove(pos)\n",
        "        location = np.random.choice(range(len(points)),replace=False)\n",
        "        return points[location]\n",
        "\n",
        "    def checkGoal(self):\n",
        "        others = []\n",
        "        for obj in self.objects:\n",
        "            if obj.name == 'hero':\n",
        "                hero = obj\n",
        "            else:\n",
        "                others.append(obj)\n",
        "        ended = False\n",
        "        for other in others:\n",
        "            if hero.x == other.x and hero.y == other.y:\n",
        "                self.objects.remove(other)\n",
        "                if other.reward == 1:\n",
        "                    self.objects.append(gameOb(self.newPosition(),1,1,1,1,'goal'))\n",
        "                else: \n",
        "                    self.objects.append(gameOb(self.newPosition(),1,1,0,-1,'fire'))\n",
        "                return other.reward,False\n",
        "        if ended == False:\n",
        "            return 0.0,False\n",
        "\n",
        "    def renderEnv(self):\n",
        "        #a = np.zeros([self.sizeY,self.sizeX,3])\n",
        "        a = np.ones([self.sizeY+2,self.sizeX+2,3])\n",
        "        a[1:-1,1:-1,:] = 0\n",
        "        hero = None\n",
        "        for item in self.objects:\n",
        "            a[item.y+1:item.y+item.size+1,item.x+1:item.x+item.size+1,item.channel] = item.intensity\n",
        "            if item.name == 'hero':\n",
        "                hero = item\n",
        "        if self.partial == True:\n",
        "            a = a[hero.y:hero.y+3,hero.x:hero.x+3,:]\n",
        "\n",
        "        # converting a low dimentinal array to an image with high dimention\n",
        "\n",
        "        ''' Deprecated in scipy '''\n",
        "#         b = scipy.misc.imresize(a[:,:,0], [84,84,1], interp='nearest')\n",
        "#         c = scipy.misc.imresize(a[:,:,1], [84,84,1], interp='nearest')\n",
        "#         d = scipy.misc.imresize(a[:,:,2], [84,84,1], interp='nearest')\n",
        "\n",
        "        # (7, 7, 3) => (84, 84, 3)\n",
        "        b = np.array(Image.fromarray(a[:,:,0]).resize((84, 84), Image.NEAREST)).reshape(84, 84)\n",
        "        c = np.array(Image.fromarray(a[:,:,1]).resize((84, 84), Image.NEAREST)).reshape(84, 84)\n",
        "        d = np.array(Image.fromarray(a[:,:,2]).resize((84, 84), Image.NEAREST)).reshape(84, 84)\n",
        "        \n",
        "        a = np.stack([b,c,d], axis=2)\n",
        "\n",
        "        return a\n",
        "\n",
        "    def step(self,action):\n",
        "        penalty = self.moveChar(action)\n",
        "        reward,done = self.checkGoal()\n",
        "        state = self.renderEnv()\n",
        "        if reward == None:\n",
        "            print(done)\n",
        "            print(reward)\n",
        "            print(penalty)\n",
        "            return state,(reward+penalty),done\n",
        "        else:\n",
        "            return state,(reward+penalty),done\n"
      ],
      "execution_count": 0,
      "outputs": []
    },
    {
      "cell_type": "markdown",
      "metadata": {
        "id": "cLEW0FARBXVY",
        "colab_type": "text"
      },
      "source": [
        "## Codebase"
      ]
    },
    {
      "cell_type": "code",
      "metadata": {
        "id": "CUKK2efl5ZSB",
        "colab_type": "code",
        "colab": {}
      },
      "source": [
        "from __future__ import division\n",
        "import gym\n",
        "import numpy as np\n",
        "import tensorflow as tf\n",
        "import matplotlib.pyplot as plt\n",
        "\n",
        "import scipy.misc\n",
        "import os\n",
        "%matplotlib inline"
      ],
      "execution_count": 0,
      "outputs": []
    },
    {
      "cell_type": "code",
      "metadata": {
        "id": "F_7hx0QV-JuI",
        "colab_type": "code",
        "outputId": "e1f73e80-fcdf-4e96-9c0f-6382526ade69",
        "colab": {
          "base_uri": "https://localhost:8080/",
          "height": 268
        }
      },
      "source": [
        "env = gameEnv(partial=False, size=5)"
      ],
      "execution_count": 4,
      "outputs": [
        {
          "output_type": "display_data",
          "data": {
            "image/png": "[encoded data removed]",
            "text/plain": [
              "<Figure size 432x288 with 1 Axes>"
            ]
          },
          "metadata": {
            "tags": []
          }
        }
      ]
    },
    {
      "cell_type": "markdown",
      "metadata": {
        "id": "HSrtzodrBiuk",
        "colab_type": "text"
      },
      "source": [
        "This is the game we'll be working on. The player can move the blue square up, down, left or right. The point of the game is to get to the green square (+1 reward) and avoid the red square (-1 reward). Blocks are randomized\n"
      ]
    },
    {
      "cell_type": "code",
      "metadata": {
        "id": "FhkeqOMsBnJq",
        "colab_type": "code",
        "outputId": "34f0a767-3a30-4384-b1c9-34e9a41a6533",
        "colab": {
          "base_uri": "https://localhost:8080/",
          "height": 285
        }
      },
      "source": [
        "plt.imshow(env.state)\n",
        "print(\"Original shape: {}\".format(env.state.shape))"
      ],
      "execution_count": 5,
      "outputs": [
        {
          "output_type": "stream",
          "text": [
            "Original shape: (84, 84, 3)\n"
          ],
          "name": "stdout"
        },
        {
          "output_type": "display_data",
          "data": {
            "image/png": "[encoded data removed]",
            "text/plain": [
              "<Figure size 432x288 with 1 Axes>"
            ]
          },
          "metadata": {
            "tags": []
          }
        }
      ]
    },
    {
      "cell_type": "markdown",
      "metadata": {
        "id": "NisZJvvhB1cw",
        "colab_type": "text"
      },
      "source": [
        "### Implemting Deep-Q Convolution n/w"
      ]
    },
    {
      "cell_type": "code",
      "metadata": {
        "id": "o17ujtWDB1sG",
        "colab_type": "code",
        "colab": {}
      },
      "source": [
        "import tensorflow as tf\n",
        "\n",
        "class Qnetwork(tf.keras.Model):\n",
        "    def __init__(self, final_layer_size, lr=0.0001):\n",
        "      super(Qnetwork, self).__init__()\n",
        "      \n",
        "      # The input image of the game is 84 x 84 x 3 (RGB) \n",
        "      \n",
        "      # There will be four layers of convolutions performed on the image input\n",
        "      # A convolution take a portion of an input and matrix multiplies\n",
        "      # a filter on the portion to get a new input (see below)\n",
        "      self.conv1 = tf.keras.layers.Conv2D(filters=32, kernel_size=8, strides=4, bias_initializer=None, padding='valid', activation='relu')\n",
        "      self.conv2 = tf.keras.layers.Conv2D(filters=64, kernel_size=4, strides=2, bias_initializer=None, padding='valid', activation='relu')\n",
        "      self.conv3 = tf.keras.layers.Conv2D(filters=64, kernel_size=3, strides=1, bias_initializer=None, padding='valid', activation='relu')\n",
        "      self.conv4 = tf.keras.layers.Conv2D(filters=final_layer_size, kernel_size=7, strides=1, bias_initializer=None, padding='valid', activation='relu')\n",
        "      \n",
        "      self.flatten = tf.keras.layers.Flatten()\n",
        "      self.Dense1 = tf.keras.layers.Dense(4, activation=None)\n",
        "      self.Dense2 = tf.keras.layers.Dense(1, activation=None)\n",
        "\n",
        "      \n",
        "      self.optimizer = tf.keras.optimizers.Adam(learning_rate=lr)\n",
        "      self.loss_object = tf.keras.losses.MeanSquaredError()\n",
        "\n",
        "    def predict(self, inputs):\n",
        "      \n",
        "      x1 = self.conv1(inputs)\n",
        "      x2 = self.conv2(x1)\n",
        "      x3 = self.conv3(x2)\n",
        "      x4 = self.conv4(x3)\n",
        "\n",
        "      # We then separate the final convolution layer into an advantage and value\n",
        "      # stream, 1/2 weights attached to each.. The value function is how well off you are in a given state.\n",
        "      # The advantage is the how much better off you are after making a particular\n",
        "      # move. Q is the value function of a state after a given action.\n",
        "      # Advantage(state, action) = Q(state, action) - Value(state)\n",
        "\n",
        "      stream_AC, stream_VC = tf.split(x4, 2, 3)\n",
        "      ''' Now Value based model cannot be a good model as we will have to select a best action which gives maximum Q value,\n",
        "      but we are not selecting actions as they have continous value, so lets try policy n/w '''\n",
        "\n",
        "      # We then flatten the advantage and value functions\n",
        "      stream_AC = self.flatten(stream_AC)\n",
        "      stream_VC = self.flatten(stream_VC)\n",
        "        \n",
        "      # We define weights for our advantage and value layers. We will train these\n",
        "      # layers so the matmul will match the expected value and advantage from play\n",
        "      Advantage = self.Dense1(stream_AC) # Give the advantage value of each action ?\n",
        "      Value = self.Dense2(stream_VC)     # Give Q value of current state ? \n",
        "\n",
        "      # To get the Q output, we need to add the value to the advantage.\n",
        "      # The advantage to be evaluated will be based on how good the action is based on the average advantage of that state.\n",
        "      \n",
        "      self.Qout = Value + tf.subtract(Advantage, tf.reduce_mean(Advantage, axis=1, keepdims=True))\n",
        "      return self.Qout\n",
        "    \n",
        "    def train(self, inputs, labels):\n",
        "\n",
        "      with tf.GradientTape() as tape:\n",
        "        predictions = self.predict(inputs)\n",
        "        loss = self.loss_object(labels, predictions)\n",
        "\n",
        "      gradients = tape.gradient(loss, self.trainable_variables)\n",
        "      self.optimizer.apply_gradients(zip(gradients, self.trainable_variables))\n",
        "      return np.array(loss)"
      ],
      "execution_count": 0,
      "outputs": []
    },
    {
      "cell_type": "markdown",
      "metadata": {
        "id": "NimHU9GnKOg3",
        "colab_type": "text"
      },
      "source": [
        "### Experience Replay\n",
        "This class allows us to store experiences and sample them randomly for learning"
      ]
    },
    {
      "cell_type": "code",
      "metadata": {
        "id": "NOttw3b0KQ0D",
        "colab_type": "code",
        "colab": {}
      },
      "source": [
        "class ExperienceReplay:\n",
        "    def __init__(self, buffer_size=5000):\n",
        "        \"\"\" Data structure used to hold game experiences \"\"\"\n",
        "        # Buffer will contain [state,action,reward,next_state,done]\n",
        "        self.buffer = []\n",
        "        self.buffer_size = buffer_size\n",
        "    \n",
        "    def add(self, experience):\n",
        "        \"\"\" Adds list of experiences to the buffer \"\"\"\n",
        "        # Extend the stored experiences\n",
        "        self.buffer.extend(experience)\n",
        "        # Keep the last buffer_size number of experiences\n",
        "        self.buffer = self.buffer[-self.buffer_size:]\n",
        "        \n",
        "    def sample(self, size):\n",
        "        \"\"\" Returns a sample of experiences from the buffer \"\"\"\n",
        "        sample_idxs = np.random.randint(len(self.buffer), size=size)\n",
        "        sample_output = [self.buffer[idx] for idx in sample_idxs]\n",
        "        sample_output = np.reshape(sample_output, (size, -1))\n",
        "        return sample_output\n"
      ],
      "execution_count": 0,
      "outputs": []
    },
    {
      "cell_type": "markdown",
      "metadata": {
        "id": "PBIFV9LdKuAA",
        "colab_type": "text"
      },
      "source": [
        "### Training the network\n"
      ]
    },
    {
      "cell_type": "code",
      "metadata": {
        "id": "dQtwUc7i4g_J",
        "colab_type": "code",
        "outputId": "3045d6e6-cbe2-4cea-b4f4-5349a44c7f8a",
        "colab": {
          "base_uri": "https://localhost:8080/",
          "height": 1000
        }
      },
      "source": [
        "import os\n",
        "import gym\n",
        "import numpy as np\n",
        "import tensorflow as tf\n",
        "\n",
        "\n",
        "class DeepQModel():\n",
        "  \n",
        "  def __init__(self, lr=0.0001):\n",
        "    # Reset everything\n",
        "\n",
        "    self.final_layer_size = 512 #Size of the final convolution layer before splitting into Advantage and Value streams\n",
        "\n",
        "    self.env = gameEnv(partial=False, size=5)\n",
        "    self.env.reset()\n",
        "    print(\"Total Actions:\", self.env.actions)\n",
        "    self.checkpoint_path = \"training/cp.ckpt\"\n",
        "\n",
        "    # Setup our Q-networks\n",
        "    self.main_qn = Qnetwork(self.final_layer_size, lr=lr)\n",
        "    self.target_qn = Qnetwork(self.final_layer_size, lr=lr)\n",
        "\n",
        "    # Make the networks equal\n",
        "    self.update_target_graph()\n",
        "\n",
        "    # Setup our experience replay\n",
        "    self.experience_replay = ExperienceReplay()\n",
        "    self.lr = lr\n",
        "\n",
        "    self.prob_random_start = 0.6 # Starting chance of random action\n",
        "    self.prob_random_end = 0.1 # Ending chance of random action\n",
        "    \n",
        "    self.y = 0.99 # Discount factor\n",
        "    self.tau = 1 # Rate to update target network toward primary network\n",
        "\n",
        "    self.num_steps = [] # Tracks number of steps per episode\n",
        "    self.rewards = [] # Tracks rewards per episode\n",
        "    self.total_steps = 0  # Tracks cumulative steps taken in training\n",
        "\n",
        "  def update_target_graph(self):\n",
        "      os.system(\"rm -rf %s\" % self.checkpoint_path)\n",
        "      self.main_qn.save_weights(self.checkpoint_path)\n",
        "      self.target_qn.load_weights(self.checkpoint_path)\n",
        "    \n",
        "  def build_experiance_buffer(self, num_episode, num_episodes, pre_train_episodes, steps, prob_random):\n",
        "    \n",
        "      # Create an experience replay for the current episode\n",
        "      episode_buffer = ExperienceReplay()\n",
        "      \n",
        "      # Get the game state from the environment\n",
        "      self.env = gameEnv(partial=False, size=5)\n",
        "      state = self.env.reset()\n",
        "      done = False # Game is complete\n",
        "      sum_rewards = 0 # Running sum of rewards in episode\n",
        "\n",
        "      ''' Save all the interaction with Env '''\n",
        "      for cntr in range(steps):\n",
        "        state = state.astype(np.float32)\n",
        "        if cntr >= steps or done:\n",
        "          break\n",
        "\n",
        "        self.total_steps += 1     \n",
        "        \n",
        "        if num_episode < pre_train_episodes or np.random.rand() < prob_random:        \n",
        "            # Act randomly based on prob_random or if we have not accumulated enough pre_train episodes\n",
        "            action = np.random.randint(self.env.actions)\n",
        "        else:\n",
        "            # Decide what action to take from the Q network\n",
        "            qouts = np.array(self.main_qn.predict(np.array([state])))\n",
        "            action = np.array(np.argmax(qouts[0])).astype(np.int64)\n",
        "\n",
        "        # Take the action and retrieve the next state, reward and done\n",
        "        state_next, reward, done = self.env.step(action)\n",
        "\n",
        "        # Setup the episode to be stored in the episode buffer\n",
        "        episode = np.array([[state], action, reward, [state_next], done])\n",
        "        episode = episode.reshape(1,-1)\n",
        "\n",
        "        # Store the experience in the episode buffer\n",
        "        episode_buffer.add(episode)\n",
        "\n",
        "        # Update the running rewards\n",
        "        sum_rewards += reward\n",
        "\n",
        "        # Update the state\n",
        "        state = state_next\n",
        "\n",
        "      self.experience_replay.add(episode_buffer.buffer)\n",
        "      self.num_steps.append(cntr)\n",
        "      self.rewards.append(sum_rewards)\n",
        "\n",
        "  def print_status(self, num_episode, print_every, num_epochs, prob_random, goal):\n",
        "    if not num_episode % print_every == 0:\n",
        "      return False\n",
        "\n",
        "    mean_loss = np.mean(self.losses[-(print_every * num_epochs):])\n",
        "    print(\"Num episode: {} Mean reward: {:0.4f} Prob random: {:0.4f}, Loss: {:0.04f}\".format(\n",
        "        num_episode, np.mean(self.rewards[-print_every:]), prob_random, mean_loss))\n",
        "\n",
        "    if np.mean(self.rewards[-print_every:]) >= goal:\n",
        "        print(\"Training complete!\")\n",
        "        return True\n",
        "    return False\n",
        "\n",
        "  def execute_episodes(self, num_episodes=100, pre_train_episodes=100, batch_size=64, steps=1000, num_epochs=20, goal=5, evaluate_every=5, print_every=5):\n",
        "\n",
        "    # We'll begin by acting complete randomly. As we gain experience and improve,\n",
        "    # we will begin reducing the probability of acting randomly, and instead\n",
        "    # take the actions that our Q network suggests\n",
        "\n",
        "    annealing_steps = num_episodes\n",
        "    prob_random = self.prob_random_start\n",
        "    prob_random_drop = (self.prob_random_start - self.prob_random_end) / annealing_steps\n",
        "\n",
        "    self.losses = [0]     # Tracking training losses\n",
        "\n",
        "    for num_episode in range(num_episodes):\n",
        "        self.build_experiance_buffer(num_episode, num_episodes, pre_train_episodes, steps, prob_random)\n",
        "\n",
        "        if num_episode < pre_train_episodes:\n",
        "          self.print_status(num_episode, print_every, num_epochs, prob_random, goal)\n",
        "          continue\n",
        "\n",
        "        if prob_random > self.prob_random_end:\n",
        "            # Drop the probability of a random action\n",
        "            prob_random -= prob_random_drop\n",
        "\n",
        "        if not num_episode or not num_episode % evaluate_every == 0:\n",
        "            continue\n",
        "\n",
        "        for num_epoch in range(num_epochs):\n",
        "\n",
        "            ''' Below Bellman equation will run we will use actual experiances from main model and\n",
        "            will use actual reward + discounted rewards from target model to recalculate value\n",
        "\n",
        "            target_q [action] = actual_reward (main_nw) + discounted_Qvalue (target_nw) \n",
        "\n",
        "            '''\n",
        "            # Train batch is [[state,action,reward,next_state,done],...]\n",
        "            train_batch = self.experience_replay.sample(batch_size)\n",
        "\n",
        "            # Separate the batch into its components\n",
        "            state_m, action_m, reward, state_next_m, done = train_batch.T\n",
        "\n",
        "            # Convert the action array into an array of ints so they can be used for indexing\n",
        "            action_m = action_m.astype(np.int)\n",
        "            # Stack the states and train_next_state for learning\n",
        "            state_m = np.vstack(state_m).astype(np.float32)\n",
        "            state_next_m = np.vstack(state_next_m).astype(np.float32)\n",
        "\n",
        "            ''' \n",
        "            In order to train n/w we need output from our target n/w modified with optimum rewards\n",
        "            Based on Bellmon Equation we know that\n",
        "\n",
        "            Q_out = rewards + discount_factor  * (future_rewards / advantage)\n",
        "\n",
        "            We have rewards and duscount_factor, but advantage are unknown, advantage are just new state values from our target n/w.\n",
        "            '''\n",
        "            output_t = np.array(self.target_qn.predict(state_m))\n",
        "\n",
        "            # The Q values from our main network from the next state\n",
        "            output_state_next_m = np.array(self.main_qn.predict(state_next_m))\n",
        "\n",
        "            action_state_next_m = np.argmax(output_state_next_m, axis=1).astype(np.int)\n",
        "            # Q value of the next state based on action\n",
        "            Qout_state_next_m = output_state_next_m[range(batch_size), action_state_next_m]\n",
        "\n",
        "            ''''Tells us whether game over or not, We will multiply our rewards by this value to ensure we don't train on the last move '''\n",
        "            done = done.astype(int)\n",
        "            train_gameover = done == 0\n",
        "            train_gameover = train_gameover.astype(int)\n",
        "            # Reward from the action chosen in the train batch\n",
        "            actual_reward = reward + (self.y * Qout_state_next_m * train_gameover)\n",
        "\n",
        "            ''' Remember we are not overriding every value in output_t only the best action q value'''\n",
        "            output_t[range(batch_size), action_m] = actual_reward\n",
        "\n",
        "            # Train the main model\n",
        "            '''\n",
        "            Ideally we dont need target model, but here we can see that with each update weight will change\n",
        "            which will contradict with target_q value we will be generating, hence we are keeping target constant but generating from \n",
        "            identical but slightly outdated same model copy.\n",
        "            '''\n",
        "            loss = self.main_qn.train(state_m, output_t)\n",
        "            self.losses.append(loss)\n",
        "\n",
        "        # Update the target model with values from the main model\n",
        "        self.update_target_graph()\n",
        "\n",
        "        # Print progress\n",
        "        if self.print_status(num_episode, print_every, num_epochs, prob_random, goal)\n",
        "           break\n",
        "'''\n",
        "batch_size - How many Experiences to use for each training step\n",
        "steps = 1000 # Maximum allowed episode length\n",
        "num_epochs = 20 # How many epochs to train from single episode experiances\n",
        "\n",
        "save_every = 5   # How often to save\n",
        "print_every = 5 # How often to print status\n",
        "'''\n",
        "\n",
        "obj = DeepQModel()\n",
        "obj.execute_episodes(num_episodes=1000, pre_train_episodes=100, batch_size=64, steps=75, num_epochs=20, goal=25, evaluate_every=5, print_every=25)\n",
        "# obj.execute_episodes(num_episodes=31, pre_train_episodes=5, batch_size=64, steps=75, num_epochs=20, goal=25, evaluate_every=5, print_every=5)"
      ],
      "execution_count": 11,
      "outputs": [
        {
          "output_type": "stream",
          "text": [
            "Total Actions: 4\n",
            "WARNING:tensorflow:Unresolved object in checkpoint: (root).optimizer.iter\n",
            "WARNING:tensorflow:Unresolved object in checkpoint: (root).optimizer.beta_1\n",
            "WARNING:tensorflow:Unresolved object in checkpoint: (root).optimizer.beta_2\n",
            "WARNING:tensorflow:Unresolved object in checkpoint: (root).optimizer.decay\n",
            "WARNING:tensorflow:Unresolved object in checkpoint: (root).optimizer.learning_rate\n",
            "WARNING:tensorflow:A checkpoint was restored (e.g. tf.train.Checkpoint.restore or tf.keras.Model.load_weights) but not all checkpointed values were used. See above for specific issues. Use expect_partial() on the load status object, e.g. tf.train.Checkpoint.restore(...).expect_partial(), to silence these warnings, or use assert_consumed() to make the check explicit. See https://www.tensorflow.org/alpha/guide/checkpoints#loading_mechanics for details.\n",
            "WARNING:tensorflow:Unresolved object in checkpoint: (root).optimizer.iter\n",
            "WARNING:tensorflow:Unresolved object in checkpoint: (root).optimizer.beta_1\n",
            "WARNING:tensorflow:Unresolved object in checkpoint: (root).optimizer.beta_2\n",
            "WARNING:tensorflow:Unresolved object in checkpoint: (root).optimizer.decay\n",
            "WARNING:tensorflow:Unresolved object in checkpoint: (root).optimizer.learning_rate\n",
            "WARNING:tensorflow:A checkpoint was restored (e.g. tf.train.Checkpoint.restore or tf.keras.Model.load_weights) but not all checkpointed values were used. See above for specific issues. Use expect_partial() on the load status object, e.g. tf.train.Checkpoint.restore(...).expect_partial(), to silence these warnings, or use assert_consumed() to make the check explicit. See https://www.tensorflow.org/alpha/guide/checkpoints#loading_mechanics for details.\n",
            "WARNING:tensorflow:Unresolved object in checkpoint: (root).optimizer.iter\n",
            "WARNING:tensorflow:Unresolved object in checkpoint: (root).optimizer.beta_1\n",
            "WARNING:tensorflow:Unresolved object in checkpoint: (root).optimizer.beta_2\n",
            "WARNING:tensorflow:Unresolved object in checkpoint: (root).optimizer.decay\n",
            "WARNING:tensorflow:Unresolved object in checkpoint: (root).optimizer.learning_rate\n",
            "WARNING:tensorflow:A checkpoint was restored (e.g. tf.train.Checkpoint.restore or tf.keras.Model.load_weights) but not all checkpointed values were used. See above for specific issues. Use expect_partial() on the load status object, e.g. tf.train.Checkpoint.restore(...).expect_partial(), to silence these warnings, or use assert_consumed() to make the check explicit. See https://www.tensorflow.org/alpha/guide/checkpoints#loading_mechanics for details.\n",
            "WARNING:tensorflow:Unresolved object in checkpoint: (root).optimizer.iter\n",
            "WARNING:tensorflow:Unresolved object in checkpoint: (root).optimizer.beta_1\n",
            "WARNING:tensorflow:Unresolved object in checkpoint: (root).optimizer.beta_2\n",
            "WARNING:tensorflow:Unresolved object in checkpoint: (root).optimizer.decay\n",
            "WARNING:tensorflow:Unresolved object in checkpoint: (root).optimizer.learning_rate\n",
            "WARNING:tensorflow:A checkpoint was restored (e.g. tf.train.Checkpoint.restore or tf.keras.Model.load_weights) but not all checkpointed values were used. See above for specific issues. Use expect_partial() on the load status object, e.g. tf.train.Checkpoint.restore(...).expect_partial(), to silence these warnings, or use assert_consumed() to make the check explicit. See https://www.tensorflow.org/alpha/guide/checkpoints#loading_mechanics for details.\n",
            "WARNING:tensorflow:Unresolved object in checkpoint: (root).optimizer.iter\n",
            "WARNING:tensorflow:Unresolved object in checkpoint: (root).optimizer.beta_1\n",
            "WARNING:tensorflow:Unresolved object in checkpoint: (root).optimizer.beta_2\n",
            "WARNING:tensorflow:Unresolved object in checkpoint: (root).optimizer.decay\n",
            "WARNING:tensorflow:Unresolved object in checkpoint: (root).optimizer.learning_rate\n",
            "WARNING:tensorflow:A checkpoint was restored (e.g. tf.train.Checkpoint.restore or tf.keras.Model.load_weights) but not all checkpointed values were used. See above for specific issues. Use expect_partial() on the load status object, e.g. tf.train.Checkpoint.restore(...).expect_partial(), to silence these warnings, or use assert_consumed() to make the check explicit. See https://www.tensorflow.org/alpha/guide/checkpoints#loading_mechanics for details.\n",
            "WARNING:tensorflow:Unresolved object in checkpoint: (root).optimizer.iter\n",
            "WARNING:tensorflow:Unresolved object in checkpoint: (root).optimizer.beta_1\n",
            "WARNING:tensorflow:Unresolved object in checkpoint: (root).optimizer.beta_2\n",
            "WARNING:tensorflow:Unresolved object in checkpoint: (root).optimizer.decay\n",
            "WARNING:tensorflow:Unresolved object in checkpoint: (root).optimizer.learning_rate\n",
            "WARNING:tensorflow:A checkpoint was restored (e.g. tf.train.Checkpoint.restore or tf.keras.Model.load_weights) but not all checkpointed values were used. See above for specific issues. Use expect_partial() on the load status object, e.g. tf.train.Checkpoint.restore(...).expect_partial(), to silence these warnings, or use assert_consumed() to make the check explicit. See https://www.tensorflow.org/alpha/guide/checkpoints#loading_mechanics for details.\n",
            "Num episode: 0 Mean reward: 4.0000 Prob random: 0.6000, Loss: 0.0000\n",
            "Num episode: 25 Mean reward: 2.5600 Prob random: 0.6000, Loss: 0.0000\n",
            "Num episode: 50 Mean reward: 2.6400 Prob random: 0.6000, Loss: 0.0000\n",
            "Num episode: 75 Mean reward: 2.6800 Prob random: 0.6000, Loss: 0.0000\n",
            "Num episode: 100 Mean reward: 3.7600 Prob random: 0.5995, Loss: 0.0322\n",
            "Num episode: 125 Mean reward: 1.7600 Prob random: 0.5870, Loss: 0.0296\n",
            "Num episode: 150 Mean reward: 3.1600 Prob random: 0.5745, Loss: 0.0270\n",
            "Num episode: 175 Mean reward: 2.9200 Prob random: 0.5620, Loss: 0.0258\n",
            "Num episode: 200 Mean reward: 3.4000 Prob random: 0.5495, Loss: 0.0254\n",
            "Num episode: 225 Mean reward: 4.8400 Prob random: 0.5370, Loss: 0.0254\n",
            "Num episode: 250 Mean reward: 6.6400 Prob random: 0.5245, Loss: 0.0265\n",
            "Num episode: 275 Mean reward: 7.4000 Prob random: 0.5120, Loss: 0.0317\n",
            "Num episode: 300 Mean reward: 12.2800 Prob random: 0.4995, Loss: 0.0433\n",
            "Num episode: 325 Mean reward: 13.6400 Prob random: 0.4870, Loss: 0.0677\n",
            "Num episode: 350 Mean reward: 16.4000 Prob random: 0.4745, Loss: 0.1115\n",
            "Num episode: 375 Mean reward: 15.0800 Prob random: 0.4620, Loss: 0.1809\n",
            "Num episode: 400 Mean reward: 16.8000 Prob random: 0.4495, Loss: 0.2487\n",
            "Num episode: 425 Mean reward: 17.4800 Prob random: 0.4370, Loss: 0.3229\n",
            "Num episode: 450 Mean reward: 19.2400 Prob random: 0.4245, Loss: 0.3960\n",
            "Num episode: 475 Mean reward: 19.3600 Prob random: 0.4120, Loss: 0.4674\n",
            "Num episode: 500 Mean reward: 19.1200 Prob random: 0.3995, Loss: 0.5104\n",
            "Num episode: 525 Mean reward: 19.4400 Prob random: 0.3870, Loss: 0.5654\n",
            "Num episode: 550 Mean reward: 21.0400 Prob random: 0.3745, Loss: 0.5976\n",
            "Num episode: 575 Mean reward: 20.4400 Prob random: 0.3620, Loss: 0.6291\n",
            "Num episode: 600 Mean reward: 21.8800 Prob random: 0.3495, Loss: 0.6474\n",
            "Num episode: 625 Mean reward: 23.4800 Prob random: 0.3370, Loss: 0.6711\n",
            "Num episode: 650 Mean reward: 21.7200 Prob random: 0.3245, Loss: 0.6715\n",
            "Num episode: 675 Mean reward: 21.4800 Prob random: 0.3120, Loss: 0.7090\n",
            "Num episode: 700 Mean reward: 24.3200 Prob random: 0.2995, Loss: 0.7172\n",
            "Num episode: 725 Mean reward: 22.6400 Prob random: 0.2870, Loss: 0.7038\n",
            "Num episode: 750 Mean reward: 24.4400 Prob random: 0.2745, Loss: 0.6943\n",
            "Num episode: 775 Mean reward: 26.1600 Prob random: 0.2620, Loss: 0.6792\n",
            "Training complete!\n",
            "Num episode: 800 Mean reward: 25.1200 Prob random: 0.2495, Loss: 0.6462\n",
            "Training complete!\n",
            "Num episode: 825 Mean reward: 26.0800 Prob random: 0.2370, Loss: 0.6275\n",
            "Training complete!\n",
            "Num episode: 850 Mean reward: 24.7600 Prob random: 0.2245, Loss: 0.6265\n",
            "Num episode: 875 Mean reward: 27.0800 Prob random: 0.2120, Loss: 0.6022\n",
            "Training complete!\n",
            "Num episode: 900 Mean reward: 26.7600 Prob random: 0.1995, Loss: 0.5863\n",
            "Training complete!\n",
            "Num episode: 925 Mean reward: 29.0400 Prob random: 0.1870, Loss: 0.5436\n",
            "Training complete!\n",
            "Num episode: 950 Mean reward: 28.8400 Prob random: 0.1745, Loss: 0.5035\n",
            "Training complete!\n",
            "Num episode: 975 Mean reward: 31.4000 Prob random: 0.1620, Loss: 0.4660\n",
            "Training complete!\n"
          ],
          "name": "stdout"
        },
        {
          "output_type": "display_data",
          "data": {
            "image/png": "[encoded data removed]",
            "text/plain": [
              "<Figure size 432x288 with 1 Axes>"
            ]
          },
          "metadata": {
            "tags": []
          }
        }
      ]
    },
    {
      "cell_type": "code",
      "metadata": {
        "id": "Vl-PtvseE9uq",
        "colab_type": "code",
        "outputId": "eb5decb8-3fa8-47bb-f888-1435d8ab5c03",
        "colab": {
          "base_uri": "https://localhost:8080/",
          "height": 1000
        }
      },
      "source": [
        "max_num_step = 75\n",
        "f, axes = plt.subplots(nrows=max_num_step//5, ncols=5, sharex=True, sharey=True, figsize=(10,20))\n",
        "done = False\n",
        "num_step = 0\n",
        "sum_rewards = 0\n",
        "\n",
        "env = gameEnv(partial=False, size=5)\n",
        "state = env.reset()\n",
        "\n",
        "actions = []\n",
        "while not done and num_step < max_num_step:\n",
        "    qouts = np.array(obj.main_qn.predict(np.array([state])))\n",
        "    action = np.argmax(qouts[0]).astype(np.int64)\n",
        "#     action = np.random.randint(env.actions)\n",
        "    actions.append(action)\n",
        "\n",
        "    next_state, reward, done = env.step(np.array(action))\n",
        "    ax = axes.ravel()[num_step]\n",
        "    ax.imshow(state)\n",
        "    ax.set_axis_off()\n",
        "    ax.set_title(\"#{} a:{} r:{}\".format(num_step, action, int(reward)))\n",
        "    num_step += 1\n",
        "    state = next_state\n",
        "\n",
        "from scipy.stats import itemfreq\n",
        "itemfreq(actions)"
      ],
      "execution_count": 12,
      "outputs": [
        {
          "output_type": "stream",
          "text": [
            "/usr/local/lib/python3.6/dist-packages/ipykernel_launcher.py:26: DeprecationWarning: `itemfreq` is deprecated!\n",
            "`itemfreq` is deprecated and will be removed in a future version. Use instead `np.unique(..., return_counts=True)`\n"
          ],
          "name": "stderr"
        },
        {
          "output_type": "execute_result",
          "data": {
            "text/plain": [
              "array([[ 0, 17],\n",
              "       [ 1, 16],\n",
              "       [ 2, 20],\n",
              "       [ 3, 22]])"
            ]
          },
          "metadata": {
            "tags": []
          },
          "execution_count": 12
        },
        {
          "output_type": "display_data",
          "data": {
            "image/png": "[encoded data removed]",
            "text/plain": [
              "<Figure size 720x1440 with 75 Axes>"
            ]
          },
          "metadata": {
            "tags": []
          }
        }
      ]
    }
  ]
}