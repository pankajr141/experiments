{
 "cells": [
  {
   "cell_type": "markdown",
   "id": "319d4fde",
   "metadata": {
    "papermill": {
     "duration": 0.004531,
     "end_time": "2025-02-21T18:57:19.012344",
     "exception": false,
     "start_time": "2025-02-21T18:57:19.007813",
     "status": "completed"
    },
    "tags": []
   },
   "source": [
    "# Setup"
   ]
  },
  {
   "cell_type": "code",
   "execution_count": 1,
   "id": "9e2c836c",
   "metadata": {
    "execution": {
     "iopub.execute_input": "2025-02-21T18:57:19.022227Z",
     "iopub.status.busy": "2025-02-21T18:57:19.021867Z",
     "iopub.status.idle": "2025-02-21T18:58:11.423017Z",
     "shell.execute_reply": "2025-02-21T18:58:11.421817Z"
    },
    "papermill": {
     "duration": 52.408594,
     "end_time": "2025-02-21T18:58:11.425139",
     "exception": false,
     "start_time": "2025-02-21T18:57:19.016545",
     "status": "completed"
    },
    "tags": []
   },
   "outputs": [
    {
     "name": "stdout",
     "output_type": "stream",
     "text": [
      "  Preparing metadata (setup.py) ... \u001b[?25l\u001b[?25hdone\r\n",
      "\u001b[2K     \u001b[90m━━━━━━━━━━━━━━━━━━━━━━━━━━━━━━━━━━━━━━━━\u001b[0m \u001b[32m981.5/981.5 kB\u001b[0m \u001b[31m18.1 MB/s\u001b[0m eta \u001b[36m0:00:00\u001b[0m\r\n",
      "\u001b[?25h  Preparing metadata (setup.py) ... \u001b[?25l\u001b[?25hdone\r\n",
      "  Preparing metadata (setup.py) ... \u001b[?25l\u001b[?25hdone\r\n",
      "  Preparing metadata (setup.py) ... \u001b[?25l\u001b[?25hdone\r\n",
      "  Preparing metadata (setup.py) ... \u001b[?25l\u001b[?25hdone\r\n",
      "\u001b[2K     \u001b[90m━━━━━━━━━━━━━━━━━━━━━━━━━━━━━━━━━━━━━━━━\u001b[0m \u001b[32m7.4/7.4 MB\u001b[0m \u001b[31m80.9 MB/s\u001b[0m eta \u001b[36m0:00:00\u001b[0m\r\n",
      "\u001b[?25h  Preparing metadata (setup.py) ... \u001b[?25l\u001b[?25hdone\r\n",
      "  Preparing metadata (setup.py) ... \u001b[?25l\u001b[?25hdone\r\n",
      "  Preparing metadata (setup.py) ... \u001b[?25l\u001b[?25hdone\r\n",
      "\u001b[2K     \u001b[90m━━━━━━━━━━━━━━━━━━━━━━━━━━━━━━━━━━━━━━━━\u001b[0m \u001b[32m44.4/44.4 kB\u001b[0m \u001b[31m1.9 MB/s\u001b[0m eta \u001b[36m0:00:00\u001b[0m\r\n",
      "\u001b[2K   \u001b[90m━━━━━━━━━━━━━━━━━━━━━━━━━━━━━━━━━━━━━━━━\u001b[0m \u001b[32m201.1/201.1 kB\u001b[0m \u001b[31m10.3 MB/s\u001b[0m eta \u001b[36m0:00:00\u001b[0m\r\n",
      "\u001b[2K   \u001b[90m━━━━━━━━━━━━━━━━━━━━━━━━━━━━━━━━━━━━━━━━\u001b[0m \u001b[32m222.4/222.4 kB\u001b[0m \u001b[31m10.8 MB/s\u001b[0m eta \u001b[36m0:00:00\u001b[0m\r\n",
      "\u001b[2K   \u001b[90m━━━━━━━━━━━━━━━━━━━━━━━━━━━━━━━━━━━━━━━━\u001b[0m \u001b[32m5.9/5.9 MB\u001b[0m \u001b[31m79.1 MB/s\u001b[0m eta \u001b[36m0:00:00\u001b[0m\r\n",
      "\u001b[2K   \u001b[90m━━━━━━━━━━━━━━━━━━━━━━━━━━━━━━━━━━━━━━━━\u001b[0m \u001b[32m45.2/45.2 MB\u001b[0m \u001b[31m32.1 MB/s\u001b[0m eta \u001b[36m0:00:00\u001b[0m\r\n",
      "\u001b[2K   \u001b[90m━━━━━━━━━━━━━━━━━━━━━━━━━━━━━━━━━━━━━━━━\u001b[0m \u001b[32m95.9/95.9 kB\u001b[0m \u001b[31m5.3 MB/s\u001b[0m eta \u001b[36m0:00:00\u001b[0m\r\n",
      "\u001b[2K   \u001b[90m━━━━━━━━━━━━━━━━━━━━━━━━━━━━━━━━━━━━━━━━\u001b[0m \u001b[32m211.1/211.1 kB\u001b[0m \u001b[31m10.1 MB/s\u001b[0m eta \u001b[36m0:00:00\u001b[0m\r\n",
      "\u001b[2K   \u001b[90m━━━━━━━━━━━━━━━━━━━━━━━━━━━━━━━━━━━━━━━━\u001b[0m \u001b[32m9.5/9.5 MB\u001b[0m \u001b[31m81.6 MB/s\u001b[0m eta \u001b[36m0:00:00\u001b[0m\r\n",
      "\u001b[2K   \u001b[90m━━━━━━━━━━━━━━━━━━━━━━━━━━━━━━━━━━━━━━━━\u001b[0m \u001b[32m40.8/40.8 kB\u001b[0m \u001b[31m1.9 MB/s\u001b[0m eta \u001b[36m0:00:00\u001b[0m\r\n",
      "\u001b[2K   \u001b[90m━━━━━━━━━━━━━━━━━━━━━━━━━━━━━━━━━━━━━━━━\u001b[0m \u001b[32m235.5/235.5 kB\u001b[0m \u001b[31m10.3 MB/s\u001b[0m eta \u001b[36m0:00:00\u001b[0m\r\n",
      "\u001b[2K   \u001b[90m━━━━━━━━━━━━━━━━━━━━━━━━━━━━━━━━━━━━━━━━\u001b[0m \u001b[32m654.0/654.0 kB\u001b[0m \u001b[31m24.1 MB/s\u001b[0m eta \u001b[36m0:00:00\u001b[0m\r\n",
      "\u001b[2K   \u001b[90m━━━━━━━━━━━━━━━━━━━━━━━━━━━━━━━━━━━━━━━━\u001b[0m \u001b[32m302.0/302.0 kB\u001b[0m \u001b[31m13.5 MB/s\u001b[0m eta \u001b[36m0:00:00\u001b[0m\r\n",
      "\u001b[2K   \u001b[90m━━━━━━━━━━━━━━━━━━━━━━━━━━━━━━━━━━━━━━━━\u001b[0m \u001b[32m81.3/81.3 kB\u001b[0m \u001b[31m3.6 MB/s\u001b[0m eta \u001b[36m0:00:00\u001b[0m\r\n",
      "\u001b[2K   \u001b[90m━━━━━━━━━━━━━━━━━━━━━━━━━━━━━━━━━━━━━━━━\u001b[0m \u001b[32m54.0/54.0 kB\u001b[0m \u001b[31m2.4 MB/s\u001b[0m eta \u001b[36m0:00:00\u001b[0m\r\n",
      "\u001b[2K   \u001b[90m━━━━━━━━━━━━━━━━━━━━━━━━━━━━━━━━━━━━━━━━\u001b[0m \u001b[32m296.6/296.6 kB\u001b[0m \u001b[31m12.7 MB/s\u001b[0m eta \u001b[36m0:00:00\u001b[0m\r\n",
      "\u001b[2K   \u001b[90m━━━━━━━━━━━━━━━━━━━━━━━━━━━━━━━━━━━━━━━━\u001b[0m \u001b[32m1.5/1.5 MB\u001b[0m \u001b[31m40.9 MB/s\u001b[0m eta \u001b[36m0:00:00\u001b[0m\r\n",
      "\u001b[2K   \u001b[90m━━━━━━━━━━━━━━━━━━━━━━━━━━━━━━━━━━━━━━━━\u001b[0m \u001b[32m3.0/3.0 MB\u001b[0m \u001b[31m58.8 MB/s\u001b[0m eta \u001b[36m0:00:00\u001b[0m\r\n",
      "\u001b[2K   \u001b[90m━━━━━━━━━━━━━━━━━━━━━━━━━━━━━━━━━━━━━━━━\u001b[0m \u001b[32m45.0/45.0 kB\u001b[0m \u001b[31m1.7 MB/s\u001b[0m eta \u001b[36m0:00:00\u001b[0m\r\n",
      "\u001b[2K   \u001b[90m━━━━━━━━━━━━━━━━━━━━━━━━━━━━━━━━━━━━━━━━\u001b[0m \u001b[32m311.2/311.2 kB\u001b[0m \u001b[31m13.0 MB/s\u001b[0m eta \u001b[36m0:00:00\u001b[0m\r\n",
      "\u001b[2K   \u001b[90m━━━━━━━━━━━━━━━━━━━━━━━━━━━━━━━━━━━━━━━━\u001b[0m \u001b[32m104.9/104.9 kB\u001b[0m \u001b[31m5.1 MB/s\u001b[0m eta \u001b[36m0:00:00\u001b[0m\r\n",
      "\u001b[2K   \u001b[90m━━━━━━━━━━━━━━━━━━━━━━━━━━━━━━━━━━━━━━━━\u001b[0m \u001b[32m492.9/492.9 kB\u001b[0m \u001b[31m18.8 MB/s\u001b[0m eta \u001b[36m0:00:00\u001b[0m\r\n",
      "\u001b[2K   \u001b[90m━━━━━━━━━━━━━━━━━━━━━━━━━━━━━━━━━━━━━━━━\u001b[0m \u001b[32m40.6/40.6 kB\u001b[0m \u001b[31m1.4 MB/s\u001b[0m eta \u001b[36m0:00:00\u001b[0m\r\n",
      "\u001b[2K   \u001b[90m━━━━━━━━━━━━━━━━━━━━━━━━━━━━━━━━━━━━━━━━\u001b[0m \u001b[32m261.5/261.5 kB\u001b[0m \u001b[31m11.6 MB/s\u001b[0m eta \u001b[36m0:00:00\u001b[0m\r\n",
      "\u001b[2K   \u001b[90m━━━━━━━━━━━━━━━━━━━━━━━━━━━━━━━━━━━━━━━━\u001b[0m \u001b[32m64.5/64.5 kB\u001b[0m \u001b[31m2.6 MB/s\u001b[0m eta \u001b[36m0:00:00\u001b[0m\r\n",
      "\u001b[2K   \u001b[90m━━━━━━━━━━━━━━━━━━━━━━━━━━━━━━━━━━━━━━━━\u001b[0m \u001b[32m744.4/744.4 kB\u001b[0m \u001b[31m30.0 MB/s\u001b[0m eta \u001b[36m0:00:00\u001b[0m\r\n",
      "\u001b[2K   \u001b[90m━━━━━━━━━━━━━━━━━━━━━━━━━━━━━━━━━━━━━━━━\u001b[0m \u001b[32m3.2/3.2 MB\u001b[0m \u001b[31m56.8 MB/s\u001b[0m eta \u001b[36m0:00:00\u001b[0m\r\n",
      "\u001b[2K   \u001b[90m━━━━━━━━━━━━━━━━━━━━━━━━━━━━━━━━━━━━━━━━\u001b[0m \u001b[32m254.5/254.5 kB\u001b[0m \u001b[31m9.2 MB/s\u001b[0m eta \u001b[36m0:00:00\u001b[0m\r\n",
      "\u001b[2K   \u001b[90m━━━━━━━━━━━━━━━━━━━━━━━━━━━━━━━━━━━━━━━━\u001b[0m \u001b[32m42.6/42.6 kB\u001b[0m \u001b[31m1.9 MB/s\u001b[0m eta \u001b[36m0:00:00\u001b[0m\r\n",
      "\u001b[2K   \u001b[90m━━━━━━━━━━━━━━━━━━━━━━━━━━━━━━━━━━━━━━━━\u001b[0m \u001b[32m74.6/74.6 kB\u001b[0m \u001b[31m3.4 MB/s\u001b[0m eta \u001b[36m0:00:00\u001b[0m\r\n",
      "\u001b[?25h  Building wheel for news-fetch (setup.py) ... \u001b[?25l\u001b[?25hdone\r\n",
      "  Building wheel for tinysegmenter (setup.py) ... \u001b[?25l\u001b[?25hdone\r\n",
      "  Building wheel for ago (setup.py) ... \u001b[?25l\u001b[?25hdone\r\n",
      "  Building wheel for feedfinder2 (setup.py) ... \u001b[?25l\u001b[?25hdone\r\n",
      "  Building wheel for hurry.filesize (setup.py) ... \u001b[?25l\u001b[?25hdone\r\n",
      "  Building wheel for jieba3k (setup.py) ... \u001b[?25l\u001b[?25hdone\r\n",
      "  Building wheel for langdetect (setup.py) ... \u001b[?25l\u001b[?25hdone\r\n",
      "  Building wheel for sgmllib3k (setup.py) ... \u001b[?25l\u001b[?25hdone\r\n",
      "\u001b[31mERROR: pip's dependency resolver does not currently take into account all the packages that are installed. This behaviour is the source of the following dependency conflicts.\r\n",
      "preprocessing 0.1.13 requires nltk==3.2.4, but you have nltk 3.9.1 which is incompatible.\r\n",
      "tensorflow-decision-forests 1.10.0 requires tensorflow==2.17.0, but you have tensorflow 2.17.1 which is incompatible.\u001b[0m\u001b[31m\r\n",
      "\u001b[0m"
     ]
    }
   ],
   "source": [
    "!pip install -q --upgrade news-fetch fake_useragent pymilvus"
   ]
  },
  {
   "cell_type": "code",
   "execution_count": 2,
   "id": "7f9535b6",
   "metadata": {
    "execution": {
     "iopub.execute_input": "2025-02-21T18:58:11.443888Z",
     "iopub.status.busy": "2025-02-21T18:58:11.443389Z",
     "iopub.status.idle": "2025-02-21T18:58:11.450105Z",
     "shell.execute_reply": "2025-02-21T18:58:11.448836Z"
    },
    "papermill": {
     "duration": 0.017898,
     "end_time": "2025-02-21T18:58:11.452134",
     "exception": false,
     "start_time": "2025-02-21T18:58:11.434236",
     "status": "completed"
    },
    "tags": []
   },
   "outputs": [],
   "source": [
    "import sys\n",
    "import logging\n",
    "\n",
    "logger = logging.getLogger('stock_recommender')\n",
    "for handler in logger.handlers[:]:\n",
    "    logger.removeHandler(handler)\n",
    "\n",
    "formatter = logging.Formatter('%(asctime)s - %(levelname)s - %(message)s')\n",
    "\n",
    "stream_handler = logging.StreamHandler(sys.stdout)\n",
    "stream_handler.setLevel(logging.DEBUG)\n",
    "stream_handler.setFormatter(formatter)\n",
    "\n",
    "logger.addHandler(stream_handler)"
   ]
  },
  {
   "cell_type": "code",
   "execution_count": 3,
   "id": "f3ce5eac",
   "metadata": {
    "execution": {
     "iopub.execute_input": "2025-02-21T18:58:11.469752Z",
     "iopub.status.busy": "2025-02-21T18:58:11.469400Z",
     "iopub.status.idle": "2025-02-21T18:58:11.473502Z",
     "shell.execute_reply": "2025-02-21T18:58:11.472361Z"
    },
    "papermill": {
     "duration": 0.014733,
     "end_time": "2025-02-21T18:58:11.475143",
     "exception": false,
     "start_time": "2025-02-21T18:58:11.460410",
     "status": "completed"
    },
    "tags": []
   },
   "outputs": [],
   "source": [
    "# !rm google*\n",
    "# !wget https://raw.githubusercontent.com/santhoshse7en/news-fetch/refs/heads/master/newsfetch/google.py\n",
    "# !mv google.py google_local.py\n",
    "\n",
    "# # issue related to double quote\n",
    "# ! sed -i \"s/\\\"+\\\"/'+'/1\" google_local.py  # Replacing \"+\" with '+'\n",
    "\n",
    "# # Issue related to chrome\n",
    "# ! sed -i \"22i \\        options.add_argument('--no-sandbox')\" google_local.py\n",
    "\n",
    "# # making search_url as attribute\n",
    "# ! sed -i \"s/search_url/self.search_url/g\" google_local.py  # Replacing \"+\" with '+'\n",
    "\n",
    "# # Results\n",
    "# ! sed -n 15,25p google_local.py"
   ]
  },
  {
   "cell_type": "code",
   "execution_count": 4,
   "id": "dbd1c16a",
   "metadata": {
    "execution": {
     "iopub.execute_input": "2025-02-21T18:58:11.493072Z",
     "iopub.status.busy": "2025-02-21T18:58:11.492741Z",
     "iopub.status.idle": "2025-02-21T18:58:12.309738Z",
     "shell.execute_reply": "2025-02-21T18:58:12.308336Z"
    },
    "papermill": {
     "duration": 0.829178,
     "end_time": "2025-02-21T18:58:12.312505",
     "exception": false,
     "start_time": "2025-02-21T18:58:11.483327",
     "status": "completed"
    },
    "tags": []
   },
   "outputs": [
    {
     "name": "stdout",
     "output_type": "stream",
     "text": [
      "--2025-02-21 18:58:11--  https://raw.githubusercontent.com/pankajr141/experiments/refs/heads/master/Experiments/stock_recommendation/libs/google_search_news_url_extracter.py\r\n",
      "Resolving raw.githubusercontent.com (raw.githubusercontent.com)... 185.199.110.133, 185.199.108.133, 185.199.109.133, ...\r\n",
      "Connecting to raw.githubusercontent.com (raw.githubusercontent.com)|185.199.110.133|:443... connected.\r\n",
      "HTTP request sent, awaiting response... 200 OK\r\n",
      "Length: 3223 (3.1K) [text/plain]\r\n",
      "Saving to: ‘google_search_news_url_extracter.py’\r\n",
      "\r\n",
      "google_search_news_ 100%[===================>]   3.15K  --.-KB/s    in 0s      \r\n",
      "\r\n",
      "2025-02-21 18:58:11 (38.4 MB/s) - ‘google_search_news_url_extracter.py’ saved [3223/3223]\r\n",
      "\r\n"
     ]
    }
   ],
   "source": [
    "!rm -rf google*\n",
    "!wget https://raw.githubusercontent.com/pankajr141/experiments/refs/heads/master/Experiments/stock_recommendation/libs/google_search_news_url_extracter.py\n",
    "!mv google_search_news_url_extracter.py google_local.py\n",
    "\n",
    "# Import Library from modified code\n",
    "from google_local import GoogleSearchNewsURLExtractor"
   ]
  },
  {
   "cell_type": "markdown",
   "id": "8b7ad89d",
   "metadata": {
    "papermill": {
     "duration": 0.007839,
     "end_time": "2025-02-21T18:58:12.328680",
     "exception": false,
     "start_time": "2025-02-21T18:58:12.320841",
     "status": "completed"
    },
    "tags": []
   },
   "source": [
    "# News - URL through search Engine"
   ]
  },
  {
   "cell_type": "code",
   "execution_count": 5,
   "id": "76615abd",
   "metadata": {
    "execution": {
     "iopub.execute_input": "2025-02-21T18:58:12.346617Z",
     "iopub.status.busy": "2025-02-21T18:58:12.346006Z",
     "iopub.status.idle": "2025-02-21T18:58:29.333133Z",
     "shell.execute_reply": "2025-02-21T18:58:29.331566Z"
    },
    "papermill": {
     "duration": 16.998831,
     "end_time": "2025-02-21T18:58:29.335555",
     "exception": false,
     "start_time": "2025-02-21T18:58:12.336724",
     "status": "completed"
    },
    "tags": []
   },
   "outputs": [
    {
     "name": "stdout",
     "output_type": "stream",
     "text": [
      "2025-02-21 18:58:23,784 - INFO - domain: https://www.businesstoday.in/, urls: 24\n",
      "2025-02-21 18:58:26,520 - INFO - domain: https://timesofindia.indiatimes.com/, urls: 19\n",
      "2025-02-21 18:58:29,328 - INFO - domain: https://www.thehindu.com, urls: 16\n"
     ]
    }
   ],
   "source": [
    "def get_stock_news_urls(stock_name, domains, user_agent=None):\n",
    "    \n",
    "    urls_news = []\n",
    "    for domain in domains:\n",
    "        google = GoogleSearchNewsURLExtractor(keyword=stock_name, news_domain=domain, user_agent=user_agent)\n",
    "        # print(f\"returned_url: {google.returned_url}\")\n",
    "\n",
    "        logger.info(f\"domain: {domain}, urls: {len(google.urls)}\")\n",
    "        urls_news.append({\n",
    "            'domain': domain,\n",
    "            'stock_name': stock_name,\n",
    "            'urls': google.urls\n",
    "        })\n",
    "    return urls_news\n",
    "\n",
    "domains = [\"https://www.businesstoday.in/\", \"https://timesofindia.indiatimes.com/\", \"https://www.thehindu.com\"]\n",
    "stock_name = \"tata motors\"\n",
    "user_agent = \"Mozilla/5.0 (iPhone; CPU iPhone OS 18_1 like Mac OS X) AppleWebKit/605.1.15 (KHTML, like Gecko) GSA/343.0.695551749 Mobile/15E148 Safari/604.1\"\n",
    "\n",
    "url_dict = get_stock_news_urls(stock_name, domains, user_agent)"
   ]
  },
  {
   "cell_type": "markdown",
   "id": "10470d23",
   "metadata": {
    "papermill": {
     "duration": 0.008171,
     "end_time": "2025-02-21T18:58:29.352641",
     "exception": false,
     "start_time": "2025-02-21T18:58:29.344470",
     "status": "completed"
    },
    "tags": []
   },
   "source": [
    "# News - Data per URL"
   ]
  },
  {
   "cell_type": "code",
   "execution_count": 6,
   "id": "9da238ab",
   "metadata": {
    "execution": {
     "iopub.execute_input": "2025-02-21T18:58:29.371613Z",
     "iopub.status.busy": "2025-02-21T18:58:29.371148Z",
     "iopub.status.idle": "2025-02-21T18:58:34.749449Z",
     "shell.execute_reply": "2025-02-21T18:58:34.748176Z"
    },
    "papermill": {
     "duration": 5.390604,
     "end_time": "2025-02-21T18:58:34.751718",
     "exception": false,
     "start_time": "2025-02-21T18:58:29.361114",
     "status": "completed"
    },
    "tags": []
   },
   "outputs": [],
   "source": [
    "from newsfetch.news import Newspaper\n",
    "import pandas as pd\n",
    "\n",
    "def fetch_article_details(url, domain, stock_name):\n",
    "    news = Newspaper(url=url)\n",
    "\n",
    "    headline = news.headline\n",
    "    publish_timestamp = news.date_publish\n",
    "    article = news.article\n",
    "    summary = news.summary\n",
    "\n",
    "    id_suffix = f\"{domain}_{stock_name}\"\n",
    "\n",
    "    article_details = {\n",
    "        'identifier': f\"{news.date_publish}_{id_suffix}\",\n",
    "        'timestamp_publish': news.date_publish,\n",
    "        'headline': news.headline,\n",
    "        'summary': news.summary,\n",
    "        'article': news.article,\n",
    "        'url': url,\n",
    "        'domain': domain,\n",
    "        'stock_name': stock_name, \n",
    "        'year': pd.to_datetime(news.date_publish).year,\n",
    "        'month': pd.to_datetime(news.date_publish).month,\n",
    "        'day': pd.to_datetime(news.date_publish).day\n",
    "    }\n",
    "    return article_details\n",
    "\n",
    "# domain = url_dict[0]['domain']\n",
    "# stock_name = url_dict[0]['stock_name']\n",
    "# url = url_dict[0]['urls'][0]\n",
    "# fetch_article_details(url, domain, stock_name)"
   ]
  },
  {
   "cell_type": "code",
   "execution_count": 7,
   "id": "f49524c5",
   "metadata": {
    "execution": {
     "iopub.execute_input": "2025-02-21T18:58:34.771704Z",
     "iopub.status.busy": "2025-02-21T18:58:34.770977Z",
     "iopub.status.idle": "2025-02-21T19:00:30.262895Z",
     "shell.execute_reply": "2025-02-21T19:00:30.261559Z"
    },
    "papermill": {
     "duration": 115.50392,
     "end_time": "2025-02-21T19:00:30.264842",
     "exception": false,
     "start_time": "2025-02-21T18:58:34.760922",
     "status": "completed"
    },
    "tags": []
   },
   "outputs": [
    {
     "name": "stderr",
     "output_type": "stream",
     "text": [
      "success: 37, failure: 22: 100%|██████████| 59/59 [01:55<00:00,  1.96s/it]\n"
     ]
    }
   ],
   "source": [
    "from tqdm import tqdm\n",
    "\n",
    "data = []\n",
    "\n",
    "success = 0\n",
    "failure = 0\n",
    "total_iter = sum([len(x['urls']) for x in url_dict])\n",
    "with tqdm(total=total_iter) as pbar:\n",
    "    for url_dict_domain in url_dict:\n",
    "        domain = url_dict_domain['domain']\n",
    "        stock_name = url_dict_domain['stock_name']\n",
    "        urls = url_dict_domain['urls']\n",
    "        \n",
    "        for url in urls:\n",
    "            try:\n",
    "                article_detail = fetch_article_details(url, domain, stock_name)\n",
    "                data.append(article_detail)\n",
    "                success += 1\n",
    "            except Exception as err:\n",
    "                # logger.error(f\"{err} - {url}\")\n",
    "                failure += 1\n",
    "                pass\n",
    "            pbar.update(1)\n",
    "            pbar.set_description(f\"success: {success}, failure: {failure}\")"
   ]
  },
  {
   "cell_type": "markdown",
   "id": "a1aba441",
   "metadata": {
    "papermill": {
     "duration": 0.01465,
     "end_time": "2025-02-21T19:00:30.294581",
     "exception": false,
     "start_time": "2025-02-21T19:00:30.279931",
     "status": "completed"
    },
    "tags": []
   },
   "source": [
    "# Vector Database"
   ]
  },
  {
   "cell_type": "code",
   "execution_count": 8,
   "id": "9c7be1a6",
   "metadata": {
    "execution": {
     "iopub.execute_input": "2025-02-21T19:00:30.326067Z",
     "iopub.status.busy": "2025-02-21T19:00:30.325724Z",
     "iopub.status.idle": "2025-02-21T19:00:30.470730Z",
     "shell.execute_reply": "2025-02-21T19:00:30.469064Z"
    },
    "papermill": {
     "duration": 0.162989,
     "end_time": "2025-02-21T19:00:30.472792",
     "exception": false,
     "start_time": "2025-02-21T19:00:30.309803",
     "status": "completed"
    },
    "tags": []
   },
   "outputs": [],
   "source": [
    "!cp /kaggle/input/sr-data-gathering-news/stock_recommender.db /kaggle/working"
   ]
  },
  {
   "cell_type": "code",
   "execution_count": 9,
   "id": "89cd1b4d",
   "metadata": {
    "execution": {
     "iopub.execute_input": "2025-02-21T19:00:30.504063Z",
     "iopub.status.busy": "2025-02-21T19:00:30.503659Z",
     "iopub.status.idle": "2025-02-21T19:00:32.093703Z",
     "shell.execute_reply": "2025-02-21T19:00:32.092501Z"
    },
    "papermill": {
     "duration": 1.608793,
     "end_time": "2025-02-21T19:00:32.096610",
     "exception": false,
     "start_time": "2025-02-21T19:00:30.487817",
     "status": "completed"
    },
    "tags": []
   },
   "outputs": [],
   "source": [
    "from pymilvus import MilvusClient\n",
    "client = MilvusClient(\"./stock_recommender.db\")\n",
    "collection_name = \"nr_stock_news\""
   ]
  },
  {
   "cell_type": "code",
   "execution_count": 10,
   "id": "1d0c43e9",
   "metadata": {
    "execution": {
     "iopub.execute_input": "2025-02-21T19:00:32.136016Z",
     "iopub.status.busy": "2025-02-21T19:00:32.135073Z",
     "iopub.status.idle": "2025-02-21T19:00:32.146978Z",
     "shell.execute_reply": "2025-02-21T19:00:32.145719Z"
    },
    "papermill": {
     "duration": 0.029741,
     "end_time": "2025-02-21T19:00:32.148990",
     "exception": false,
     "start_time": "2025-02-21T19:00:32.119249",
     "status": "completed"
    },
    "tags": []
   },
   "outputs": [
    {
     "name": "stdout",
     "output_type": "stream",
     "text": [
      "2025-02-21 19:00:32,139 - INFO - Availaible collections: ['nr_stock_news']\n",
      "2025-02-21 19:00:32,142 - INFO - collection (nr_stock_news) : {'row_count': 36}\n"
     ]
    }
   ],
   "source": [
    "collections = client.list_collections()\n",
    "logger.info(f\"Availaible collections: {collections}\")\n",
    "\n",
    "if collection_name in collections:\n",
    "    logger.info(f\"collection ({collection_name}) : {client.get_collection_stats(collection_name)}\")\n",
    "    # logger.warning(f\"Dropping collection: {collection_name}\")\n",
    "    # client.drop_collection(collection_name)"
   ]
  },
  {
   "cell_type": "code",
   "execution_count": 11,
   "id": "c521b7a6",
   "metadata": {
    "execution": {
     "iopub.execute_input": "2025-02-21T19:00:32.181004Z",
     "iopub.status.busy": "2025-02-21T19:00:32.180497Z",
     "iopub.status.idle": "2025-02-21T19:00:32.196456Z",
     "shell.execute_reply": "2025-02-21T19:00:32.194977Z"
    },
    "papermill": {
     "duration": 0.035107,
     "end_time": "2025-02-21T19:00:32.199524",
     "exception": false,
     "start_time": "2025-02-21T19:00:32.164417",
     "status": "completed"
    },
    "tags": []
   },
   "outputs": [],
   "source": [
    "from pymilvus import MilvusClient, DataType\n",
    "\n",
    "schema = MilvusClient.create_schema(\n",
    "    auto_id=False,\n",
    "    enable_dynamic_field=False,\n",
    ")\n",
    "\n",
    "schema.add_field(field_name=\"identifier\", datatype=DataType.VARCHAR, max_length=256, is_primary=True)\n",
    "schema.add_field(field_name=\"timestamp_publish\", datatype=DataType.VARCHAR, max_length=20)\n",
    "schema.add_field(field_name=\"headline\", datatype=DataType.VARCHAR, max_length=256)\n",
    "schema.add_field(field_name=\"summary\", datatype=DataType.VARCHAR, max_length=256)\n",
    "schema.add_field(field_name=\"article\", datatype=DataType.VARCHAR, max_length=2048)\n",
    "schema.add_field(field_name=\"url\", datatype=DataType.VARCHAR, max_length=256)\n",
    "schema.add_field(field_name=\"domain\", datatype=DataType.VARCHAR, max_length=30)\n",
    "schema.add_field(field_name=\"stock_name\", datatype=DataType.VARCHAR, max_length=30)\n",
    "schema.add_field(field_name=\"year\", datatype=DataType.INT8)\n",
    "schema.add_field(field_name=\"month\", datatype=DataType.INT8)\n",
    "schema.add_field(field_name=\"day\", datatype=DataType.INT8)\n",
    "\n",
    "client.create_collection(\n",
    "    collection_name=collection_name,\n",
    "    schema=schema\n",
    ")"
   ]
  },
  {
   "cell_type": "code",
   "execution_count": 12,
   "id": "2d2329d0",
   "metadata": {
    "execution": {
     "iopub.execute_input": "2025-02-21T19:00:32.251513Z",
     "iopub.status.busy": "2025-02-21T19:00:32.250961Z",
     "iopub.status.idle": "2025-02-21T19:00:32.341280Z",
     "shell.execute_reply": "2025-02-21T19:00:32.339988Z"
    },
    "papermill": {
     "duration": 0.119434,
     "end_time": "2025-02-21T19:00:32.343226",
     "exception": false,
     "start_time": "2025-02-21T19:00:32.223792",
     "status": "completed"
    },
    "tags": []
   },
   "outputs": [
    {
     "data": {
      "text/plain": [
       "{'row_count': 43}"
      ]
     },
     "execution_count": 12,
     "metadata": {},
     "output_type": "execute_result"
    }
   ],
   "source": [
    "res = client.upsert(\n",
    "    collection_name=collection_name,\n",
    "    data=data\n",
    ")\n",
    "client.get_collection_stats(collection_name)"
   ]
  },
  {
   "cell_type": "code",
   "execution_count": 13,
   "id": "383f0386",
   "metadata": {
    "execution": {
     "iopub.execute_input": "2025-02-21T19:00:32.374592Z",
     "iopub.status.busy": "2025-02-21T19:00:32.374114Z",
     "iopub.status.idle": "2025-02-21T19:00:32.442886Z",
     "shell.execute_reply": "2025-02-21T19:00:32.441528Z"
    },
    "papermill": {
     "duration": 0.086452,
     "end_time": "2025-02-21T19:00:32.444709",
     "exception": false,
     "start_time": "2025-02-21T19:00:32.358257",
     "status": "completed"
    },
    "tags": []
   },
   "outputs": [
    {
     "name": "stderr",
     "output_type": "stream",
     "text": [
      "2025-02-21 19:00:32,381 [WARNING][__setup_ts_by_request]: failed to get mvccTs from milvus server, use client-side ts instead (iterator.py:260)\n"
     ]
    },
    {
     "name": "stdout",
     "output_type": "stream",
     "text": [
      "1 [{'identifier': '2018-07-11 12:07:37_https://www.thehindu.com_tata motors'}]\n",
      "2 [{'identifier': '2021-07-14 17:53:57_https://www.thehindu.com_tata motors'}]\n",
      "3 [{'identifier': '2021-08-09 16:29:12_https://timesofindia.indiatimes.com/_tata motors'}]\n",
      "4 [{'identifier': '2022-06-29 05:27:52_https://www.thehindu.com_tata motors'}]\n",
      "5 [{'identifier': '2023-06-02 15:36:43_https://www.thehindu.com_tata motors'}]\n",
      "6 [{'identifier': '2023-10-10 15:43:21_https://www.thehindu.com_tata motors'}]\n",
      "7 [{'identifier': '2024-02-13 17:12:03_https://www.thehindu.com_tata motors'}]\n",
      "8 [{'identifier': '2024-03-04 12:52:43_https://www.thehindu.com_tata motors'}]\n",
      "9 [{'identifier': '2024-04-10 16:13:41_https://www.thehindu.com_tata motors'}]\n",
      "10 [{'identifier': '2024-06-20 11:59:03_https://www.thehindu.com_tata motors'}]\n",
      "11 [{'identifier': '2024-08-07 16:58:36_https://www.thehindu.com_tata motors'}]\n",
      "12 [{'identifier': '2024-10-01 20:42:00_https://www.thehindu.com_tata motors'}]\n",
      "13 [{'identifier': '2024-10-10 08:43:49_https://www.thehindu.com_tata motors'}]\n",
      "14 [{'identifier': '2024-10-10 16:51:20_https://www.thehindu.com_tata motors'}]\n",
      "15 [{'identifier': '2024-12-09 15:50:22_https://www.businesstoday.in/_tata motors'}]\n",
      "16 [{'identifier': '2025-01-09 14:55:51_https://www.thehindu.com_tata motors'}]\n",
      "17 [{'identifier': '2025-01-18 08:30:20_https://www.businesstoday.in/_tata motors'}]\n",
      "18 [{'identifier': '2025-01-22 19:53:50_https://www.businesstoday.in/_tata motors'}]\n",
      "19 [{'identifier': '2025-01-23 09:00:04_https://www.businesstoday.in/_tata motors'}]\n",
      "20 [{'identifier': '2025-01-27 18:11:03_https://www.businesstoday.in/_tata motors'}]\n",
      "21 [{'identifier': '2025-01-29 15:01:12_https://www.thehindu.com_tata motors'}]\n",
      "22 [{'identifier': '2025-01-30 09:01:29_https://www.businesstoday.in/_tata motors'}]\n",
      "23 [{'identifier': '2025-01-30 16:32:54_https://www.businesstoday.in/_tata motors'}]\n",
      "24 [{'identifier': '2025-01-31 12:11:45_https://www.businesstoday.in/_tata motors'}]\n",
      "25 [{'identifier': '2025-02-06 19:30:20_https://www.businesstoday.in/_tata motors'}]\n",
      "26 [{'identifier': '2025-02-17 14:48:45_https://www.businesstoday.in/_tata motors'}]\n",
      "27 [{'identifier': '2025-02-19 09:24:18_https://www.businesstoday.in/_tata motors'}]\n",
      "28 [{'identifier': '2025-02-19 12:36:58_https://www.businesstoday.in/_tata motors'}]\n",
      "29 [{'identifier': '2025-02-19 17:03:06_https://www.businesstoday.in/_tata motors'}]\n",
      "30 [{'identifier': '2025-02-19 18:41:18_https://www.businesstoday.in/_tata motors'}]\n",
      "31 [{'identifier': '2025-02-20 11:29:27_https://www.businesstoday.in/_tata motors'}]\n"
     ]
    }
   ],
   "source": [
    "iterator = client.query_iterator(\n",
    "    collection_name=collection_name,\n",
    "    batch_size=1,\n",
    "    output_fields=[\"identifier\"]\n",
    ")\n",
    "\n",
    "count=0\n",
    "while True:\n",
    "    result = iterator.next()\n",
    "    \n",
    "    if not result:\n",
    "        iterator.close()\n",
    "        break\n",
    "    count += 1\n",
    "    print(count, result)"
   ]
  }
 ],
 "metadata": {
  "kaggle": {
   "accelerator": "none",
   "dataSources": [
    {
     "sourceId": 223642532,
     "sourceType": "kernelVersion"
    }
   ],
   "dockerImageVersionId": 30886,
   "isGpuEnabled": false,
   "isInternetEnabled": true,
   "language": "python",
   "sourceType": "notebook"
  },
  "kernelspec": {
   "display_name": "Python 3",
   "language": "python",
   "name": "python3"
  },
  "language_info": {
   "codemirror_mode": {
    "name": "ipython",
    "version": 3
   },
   "file_extension": ".py",
   "mimetype": "text/x-python",
   "name": "python",
   "nbconvert_exporter": "python",
   "pygments_lexer": "ipython3",
   "version": "3.10.12"
  },
  "papermill": {
   "default_parameters": {},
   "duration": 197.94032,
   "end_time": "2025-02-21T19:00:33.783818",
   "environment_variables": {},
   "exception": null,
   "input_path": "__notebook__.ipynb",
   "output_path": "__notebook__.ipynb",
   "parameters": {},
   "start_time": "2025-02-21T18:57:15.843498",
   "version": "2.6.0"
  }
 },
 "nbformat": 4,
 "nbformat_minor": 5
}
