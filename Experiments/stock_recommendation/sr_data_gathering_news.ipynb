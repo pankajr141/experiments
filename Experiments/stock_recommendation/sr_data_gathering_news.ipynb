{
  "metadata": {
    "kernelspec": {
      "language": "python",
      "display_name": "Python 3",
      "name": "python3"
    },
    "language_info": {
      "name": "python",
      "version": "3.10.12",
      "mimetype": "text/x-python",
      "codemirror_mode": {
        "name": "ipython",
        "version": 3
      },
      "pygments_lexer": "ipython3",
      "nbconvert_exporter": "python",
      "file_extension": ".py"
    },
    "kaggle": {
      "accelerator": "none",
      "dataSources": [
        {
          "sourceId": 223590358,
          "sourceType": "kernelVersion"
        }
      ],
      "dockerImageVersionId": 30886,
      "isInternetEnabled": true,
      "language": "python",
      "sourceType": "notebook",
      "isGpuEnabled": false
    },
    "colab": {
      "name": "sr_data_gathering_news",
      "provenance": [],
      "include_colab_link": true
    }
  },
  "nbformat_minor": 0,
  "nbformat": 4,
  "cells": [
    {
      "cell_type": "markdown",
      "metadata": {
        "id": "view-in-github",
        "colab_type": "text"
      },
      "source": [
        "<a href=\"https://colab.research.google.com/github/pankajr141/experiments/blob/master/Experiments/stock_recommendation/sr_data_gathering_news.ipynb\" target=\"_parent\"><img src=\"https://colab.research.google.com/assets/colab-badge.svg\" alt=\"Open In Colab\"/></a>"
      ]
    },
    {
      "cell_type": "markdown",
      "source": [
        "# Setup"
      ],
      "metadata": {
        "id": "5f8ol6crObNm"
      }
    },
    {
      "cell_type": "code",
      "source": [
        "!pip install -q --upgrade news-fetch fake_useragent pymilvus"
      ],
      "metadata": {
        "trusted": true,
        "execution": {
          "iopub.status.busy": "2025-02-20T16:29:57.16399Z",
          "iopub.execute_input": "2025-02-20T16:29:57.164363Z",
          "iopub.status.idle": "2025-02-20T16:30:49.238889Z",
          "shell.execute_reply.started": "2025-02-20T16:29:57.164325Z",
          "shell.execute_reply": "2025-02-20T16:30:49.237671Z"
        },
        "id": "Rb8rgG4qObNv",
        "outputId": "9dbe70ba-bffd-4229-f6a3-48fa61518074"
      },
      "outputs": [
        {
          "name": "stdout",
          "text": "  Preparing metadata (setup.py) ... \u001b[?25l\u001b[?25hdone\n\u001b[2K     \u001b[90m━━━━━━━━━━━━━━━━━━━━━━━━━━━━━━━━━━━━━━━━\u001b[0m \u001b[32m981.5/981.5 kB\u001b[0m \u001b[31m41.6 MB/s\u001b[0m eta \u001b[36m0:00:00\u001b[0m\n\u001b[?25h  Preparing metadata (setup.py) ... \u001b[?25l\u001b[?25hdone\n  Preparing metadata (setup.py) ... \u001b[?25l\u001b[?25hdone\n  Preparing metadata (setup.py) ... \u001b[?25l\u001b[?25hdone\n  Preparing metadata (setup.py) ... \u001b[?25l\u001b[?25hdone\n\u001b[2K     \u001b[90m━━━━━━━━━━━━━━━━━━━━━━━━━━━━━━━━━━━━━━━━\u001b[0m \u001b[32m7.4/7.4 MB\u001b[0m \u001b[31m96.7 MB/s\u001b[0m eta \u001b[36m0:00:00\u001b[0m:00:01\u001b[0m00:01\u001b[0m\n\u001b[?25h  Preparing metadata (setup.py) ... \u001b[?25l\u001b[?25hdone\n  Preparing metadata (setup.py) ... \u001b[?25l\u001b[?25hdone\n  Preparing metadata (setup.py) ... \u001b[?25l\u001b[?25hdone\n\u001b[2K     \u001b[90m━━━━━━━━━━━━━━━━━━━━━━━━━━━━━━━━━━━━━━━━\u001b[0m \u001b[32m44.4/44.4 kB\u001b[0m \u001b[31m2.3 MB/s\u001b[0m eta \u001b[36m0:00:00\u001b[0m\n\u001b[2K   \u001b[90m━━━━━━━━━━━━━━━━━━━━━━━━━━━━━━━━━━━━━━━━\u001b[0m \u001b[32m201.1/201.1 kB\u001b[0m \u001b[31m10.5 MB/s\u001b[0m eta \u001b[36m0:00:00\u001b[0m\n\u001b[2K   \u001b[90m━━━━━━━━━━━━━━━━━━━━━━━━━━━━━━━━━━━━━━━━\u001b[0m \u001b[32m222.4/222.4 kB\u001b[0m \u001b[31m13.7 MB/s\u001b[0m eta \u001b[36m0:00:00\u001b[0m\n\u001b[2K   \u001b[90m━━━━━━━━━━━━━━━━━━━━━━━━━━━━━━━━━━━━━━━━\u001b[0m \u001b[32m5.9/5.9 MB\u001b[0m \u001b[31m62.3 MB/s\u001b[0m eta \u001b[36m0:00:00\u001b[0m00:01\u001b[0m:00:01\u001b[0m\n\u001b[2K   \u001b[90m━━━━━━━━━━━━━━━━━━━━━━━━━━━━━━━━━━━━━━━━\u001b[0m \u001b[32m45.2/45.2 MB\u001b[0m \u001b[31m35.6 MB/s\u001b[0m eta \u001b[36m0:00:00\u001b[0m:00:01\u001b[0m00:01\u001b[0m\n\u001b[2K   \u001b[90m━━━━━━━━━━━━━━━━━━━━━━━━━━━━━━━━━━━━━━━━\u001b[0m \u001b[32m95.9/95.9 kB\u001b[0m \u001b[31m5.5 MB/s\u001b[0m eta \u001b[36m0:00:00\u001b[0m\n\u001b[2K   \u001b[90m━━━━━━━━━━━━━━━━━━━━━━━━━━━━━━━━━━━━━━━━\u001b[0m \u001b[32m211.1/211.1 kB\u001b[0m \u001b[31m12.1 MB/s\u001b[0m eta \u001b[36m0:00:00\u001b[0m\n\u001b[2K   \u001b[90m━━━━━━━━━━━━━━━━━━━━━━━━━━━━━━━━━━━━━━━━\u001b[0m \u001b[32m9.5/9.5 MB\u001b[0m \u001b[31m106.7 MB/s\u001b[0m eta \u001b[36m0:00:00\u001b[0m00:01\u001b[0m00:01\u001b[0m\n\u001b[2K   \u001b[90m━━━━━━━━━━━━━━━━━━━━━━━━━━━━━━━━━━━━━━━━\u001b[0m \u001b[32m40.8/40.8 kB\u001b[0m \u001b[31m2.2 MB/s\u001b[0m eta \u001b[36m0:00:00\u001b[0m\n\u001b[2K   \u001b[90m━━━━━━━━━━━━━━━━━━━━━━━━━━━━━━━━━━━━━━━━\u001b[0m \u001b[32m235.5/235.5 kB\u001b[0m \u001b[31m12.5 MB/s\u001b[0m eta \u001b[36m0:00:00\u001b[0m\n\u001b[2K   \u001b[90m━━━━━━━━━━━━━━━━━━━━━━━━━━━━━━━━━━━━━━━━\u001b[0m \u001b[32m654.0/654.0 kB\u001b[0m \u001b[31m30.0 MB/s\u001b[0m eta \u001b[36m0:00:00\u001b[0m\n\u001b[2K   \u001b[90m━━━━━━━━━━━━━━━━━━━━━━━━━━━━━━━━━━━━━━━━\u001b[0m \u001b[32m302.0/302.0 kB\u001b[0m \u001b[31m16.1 MB/s\u001b[0m eta \u001b[36m0:00:00\u001b[0m\n\u001b[2K   \u001b[90m━━━━━━━━━━━━━━━━━━━━━━━━━━━━━━━━━━━━━━━━\u001b[0m \u001b[32m81.3/81.3 kB\u001b[0m \u001b[31m5.2 MB/s\u001b[0m eta \u001b[36m0:00:00\u001b[0m\n\u001b[2K   \u001b[90m━━━━━━━━━━━━━━━━━━━━━━━━━━━━━━━━━━━━━━━━\u001b[0m \u001b[32m54.0/54.0 kB\u001b[0m \u001b[31m2.6 MB/s\u001b[0m eta \u001b[36m0:00:00\u001b[0m\n\u001b[2K   \u001b[90m━━━━━━━━━━━━━━━━━━━━━━━━━━━━━━━━━━━━━━━━\u001b[0m \u001b[32m296.6/296.6 kB\u001b[0m \u001b[31m15.9 MB/s\u001b[0m eta \u001b[36m0:00:00\u001b[0m\n\u001b[2K   \u001b[90m━━━━━━━━━━━━━━━━━━━━━━━━━━━━━━━━━━━━━━━━\u001b[0m \u001b[32m1.5/1.5 MB\u001b[0m \u001b[31m50.9 MB/s\u001b[0m eta \u001b[36m0:00:00\u001b[0m\n\u001b[2K   \u001b[90m━━━━━━━━━━━━━━━━━━━━━━━━━━━━━━━━━━━━━━━━\u001b[0m \u001b[32m3.0/3.0 MB\u001b[0m \u001b[31m76.6 MB/s\u001b[0m eta \u001b[36m0:00:00\u001b[0m:00:01\u001b[0m\n\u001b[2K   \u001b[90m━━━━━━━━━━━━━━━━━━━━━━━━━━━━━━━━━━━━━━━━\u001b[0m \u001b[32m45.0/45.0 kB\u001b[0m \u001b[31m2.4 MB/s\u001b[0m eta \u001b[36m0:00:00\u001b[0m\n\u001b[2K   \u001b[90m━━━━━━━━━━━━━━━━━━━━━━━━━━━━━━━━━━━━━━━━\u001b[0m \u001b[32m311.2/311.2 kB\u001b[0m \u001b[31m15.5 MB/s\u001b[0m eta \u001b[36m0:00:00\u001b[0m\n\u001b[2K   \u001b[90m━━━━━━━━━━━━━━━━━━━━━━━━━━━━━━━━━━━━━━━━\u001b[0m \u001b[32m104.9/104.9 kB\u001b[0m \u001b[31m6.3 MB/s\u001b[0m eta \u001b[36m0:00:00\u001b[0m\n\u001b[2K   \u001b[90m━━━━━━━━━━━━━━━━━━━━━━━━━━━━━━━━━━━━━━━━\u001b[0m \u001b[32m492.9/492.9 kB\u001b[0m \u001b[31m24.9 MB/s\u001b[0m eta \u001b[36m0:00:00\u001b[0m\n\u001b[2K   \u001b[90m━━━━━━━━━━━━━━━━━━━━━━━━━━━━━━━━━━━━━━━━\u001b[0m \u001b[32m40.6/40.6 kB\u001b[0m \u001b[31m1.9 MB/s\u001b[0m eta \u001b[36m0:00:00\u001b[0m\n\u001b[2K   \u001b[90m━━━━━━━━━━━━━━━━━━━━━━━━━━━━━━━━━━━━━━━━\u001b[0m \u001b[32m261.5/261.5 kB\u001b[0m \u001b[31m16.2 MB/s\u001b[0m eta \u001b[36m0:00:00\u001b[0m\n\u001b[2K   \u001b[90m━━━━━━━━━━━━━━━━━━━━━━━━━━━━━━━━━━━━━━━━\u001b[0m \u001b[32m64.5/64.5 kB\u001b[0m \u001b[31m3.6 MB/s\u001b[0m eta \u001b[36m0:00:00\u001b[0m\n\u001b[2K   \u001b[90m━━━━━━━━━━━━━━━━━━━━━━━━━━━━━━━━━━━━━━━━\u001b[0m \u001b[32m744.4/744.4 kB\u001b[0m \u001b[31m35.6 MB/s\u001b[0m eta \u001b[36m0:00:00\u001b[0m\n\u001b[2K   \u001b[90m━━━━━━━━━━━━━━━━━━━━━━━━━━━━━━━━━━━━━━━━\u001b[0m \u001b[32m3.2/3.2 MB\u001b[0m \u001b[31m68.9 MB/s\u001b[0m eta \u001b[36m0:00:00\u001b[0m:00:01\u001b[0m\n\u001b[2K   \u001b[90m━━━━━━━━━━━━━━━━━━━━━━━━━━━━━━━━━━━━━━━━\u001b[0m \u001b[32m254.5/254.5 kB\u001b[0m \u001b[31m14.5 MB/s\u001b[0m eta \u001b[36m0:00:00\u001b[0m\n\u001b[2K   \u001b[90m━━━━━━━━━━━━━━━━━━━━━━━━━━━━━━━━━━━━━━━━\u001b[0m \u001b[32m42.6/42.6 kB\u001b[0m \u001b[31m2.2 MB/s\u001b[0m eta \u001b[36m0:00:00\u001b[0m\n\u001b[2K   \u001b[90m━━━━━━━━━━━━━━━━━━━━━━━━━━━━━━━━━━━━━━━━\u001b[0m \u001b[32m74.6/74.6 kB\u001b[0m \u001b[31m3.9 MB/s\u001b[0m eta \u001b[36m0:00:00\u001b[0m\n\u001b[?25h  Building wheel for news-fetch (setup.py) ... \u001b[?25l\u001b[?25hdone\n  Building wheel for tinysegmenter (setup.py) ... \u001b[?25l\u001b[?25hdone\n  Building wheel for ago (setup.py) ... \u001b[?25l\u001b[?25hdone\n  Building wheel for feedfinder2 (setup.py) ... \u001b[?25l\u001b[?25hdone\n  Building wheel for hurry.filesize (setup.py) ... \u001b[?25l\u001b[?25hdone\n  Building wheel for jieba3k (setup.py) ... \u001b[?25l\u001b[?25hdone\n  Building wheel for langdetect (setup.py) ... \u001b[?25l\u001b[?25hdone\n  Building wheel for sgmllib3k (setup.py) ... \u001b[?25l\u001b[?25hdone\n\u001b[31mERROR: pip's dependency resolver does not currently take into account all the packages that are installed. This behaviour is the source of the following dependency conflicts.\npreprocessing 0.1.13 requires nltk==3.2.4, but you have nltk 3.9.1 which is incompatible.\ntensorflow-decision-forests 1.10.0 requires tensorflow==2.17.0, but you have tensorflow 2.17.1 which is incompatible.\u001b[0m\u001b[31m\n\u001b[0m",
          "output_type": "stream"
        }
      ],
      "execution_count": null
    },
    {
      "cell_type": "code",
      "source": [
        "import sys\n",
        "import logging\n",
        "\n",
        "logger = logging.getLogger('stock_recommender')\n",
        "for handler in logger.handlers[:]:\n",
        "    logger.removeHandler(handler)\n",
        "\n",
        "formatter = logging.Formatter('%(asctime)s - %(levelname)s - %(message)s')\n",
        "\n",
        "stream_handler = logging.StreamHandler(sys.stdout)\n",
        "stream_handler.setLevel(logging.DEBUG)\n",
        "stream_handler.setFormatter(formatter)\n",
        "\n",
        "logger.addHandler(stream_handler)"
      ],
      "metadata": {
        "trusted": true,
        "execution": {
          "iopub.status.busy": "2025-02-20T16:30:49.240404Z",
          "iopub.execute_input": "2025-02-20T16:30:49.240873Z",
          "iopub.status.idle": "2025-02-20T16:30:49.247037Z",
          "shell.execute_reply.started": "2025-02-20T16:30:49.240824Z",
          "shell.execute_reply": "2025-02-20T16:30:49.245917Z"
        },
        "id": "2K_Yjpw3ObNz"
      },
      "outputs": [],
      "execution_count": null
    },
    {
      "cell_type": "code",
      "source": [
        "# !rm google*\n",
        "# !wget https://raw.githubusercontent.com/santhoshse7en/news-fetch/refs/heads/master/newsfetch/google.py\n",
        "# !mv google.py google_local.py\n",
        "\n",
        "# # issue related to double quote\n",
        "# ! sed -i \"s/\\\"+\\\"/'+'/1\" google_local.py  # Replacing \"+\" with '+'\n",
        "\n",
        "# # Issue related to chrome\n",
        "# ! sed -i \"22i \\        options.add_argument('--no-sandbox')\" google_local.py\n",
        "\n",
        "# # making search_url as attribute\n",
        "# ! sed -i \"s/search_url/self.search_url/g\" google_local.py  # Replacing \"+\" with '+'\n",
        "\n",
        "# # Results\n",
        "# ! sed -n 15,25p google_local.py"
      ],
      "metadata": {
        "trusted": true,
        "execution": {
          "iopub.status.busy": "2025-02-20T16:30:49.248174Z",
          "iopub.execute_input": "2025-02-20T16:30:49.248565Z",
          "iopub.status.idle": "2025-02-20T16:30:49.272105Z",
          "shell.execute_reply.started": "2025-02-20T16:30:49.248527Z",
          "shell.execute_reply": "2025-02-20T16:30:49.270921Z"
        },
        "id": "uTkmD4_2ObN4"
      },
      "outputs": [],
      "execution_count": null
    },
    {
      "cell_type": "code",
      "source": [
        "!rm -rf google*\n",
        "!wget https://raw.githubusercontent.com/pankajr141/experiments/refs/heads/master/Experiments/stock_recommendation/libs/google_search_news_url_extracter.py\n",
        "!mv google_search_news_url_extracter.py google_local.py\n",
        "\n",
        "# Import Library from modified code\n",
        "from google_local import GoogleSearchNewsURLExtractor"
      ],
      "metadata": {
        "trusted": true,
        "execution": {
          "iopub.status.busy": "2025-02-20T16:30:49.273273Z",
          "iopub.execute_input": "2025-02-20T16:30:49.273595Z",
          "iopub.status.idle": "2025-02-20T16:30:50.165263Z",
          "shell.execute_reply.started": "2025-02-20T16:30:49.273568Z",
          "shell.execute_reply": "2025-02-20T16:30:50.163815Z"
        },
        "id": "SoFHZajrObN5",
        "outputId": "1bffe20f-f989-4537-aab2-8a5cbe8693a2"
      },
      "outputs": [
        {
          "name": "stdout",
          "text": "--2025-02-20 16:30:49--  https://raw.githubusercontent.com/pankajr141/experiments/refs/heads/master/Experiments/stock_recommendation/libs/google_search_news_url_extracter.py\nResolving raw.githubusercontent.com (raw.githubusercontent.com)... 185.199.109.133, 185.199.108.133, 185.199.111.133, ...\nConnecting to raw.githubusercontent.com (raw.githubusercontent.com)|185.199.109.133|:443... connected.\nHTTP request sent, awaiting response... 200 OK\nLength: 3223 (3.1K) [text/plain]\nSaving to: ‘google_search_news_url_extracter.py’\n\ngoogle_search_news_ 100%[===================>]   3.15K  --.-KB/s    in 0s      \n\n2025-02-20 16:30:49 (25.2 MB/s) - ‘google_search_news_url_extracter.py’ saved [3223/3223]\n\n",
          "output_type": "stream"
        }
      ],
      "execution_count": null
    },
    {
      "cell_type": "markdown",
      "source": [
        "# News - URL through search Engine"
      ],
      "metadata": {
        "id": "dQAV5UFeObN9"
      }
    },
    {
      "cell_type": "code",
      "source": [
        "def get_stock_news_urls(stock_name, domains, user_agent=None):\n",
        "\n",
        "    urls_news = []\n",
        "    for domain in domains:\n",
        "        google = GoogleSearchNewsURLExtractor(keyword=stock_name, news_domain=domain, user_agent=user_agent)\n",
        "        # print(f\"returned_url: {google.returned_url}\")\n",
        "\n",
        "        logger.info(f\"domain: {domain}, urls: {len(google.urls)}\")\n",
        "        urls_news.append({\n",
        "            'domain': domain,\n",
        "            'stock_name': stock_name,\n",
        "            'urls': google.urls\n",
        "        })\n",
        "    return urls_news\n",
        "\n",
        "domains = [\"https://www.businesstoday.in/\", \"https://timesofindia.indiatimes.com/\", \"https://www.thehindu.com\"]\n",
        "stock_name = \"tata motors\"\n",
        "user_agent = \"Mozilla/5.0 (iPhone; CPU iPhone OS 18_1 like Mac OS X) AppleWebKit/605.1.15 (KHTML, like Gecko) GSA/343.0.695551749 Mobile/15E148 Safari/604.1\"\n",
        "\n",
        "url_dict = get_stock_news_urls(stock_name, domains, user_agent)"
      ],
      "metadata": {
        "trusted": true,
        "execution": {
          "iopub.status.busy": "2025-02-20T16:30:50.166745Z",
          "iopub.execute_input": "2025-02-20T16:30:50.167417Z",
          "iopub.status.idle": "2025-02-20T16:31:13.746511Z",
          "shell.execute_reply.started": "2025-02-20T16:30:50.167317Z",
          "shell.execute_reply": "2025-02-20T16:31:13.74548Z"
        },
        "id": "zFqhdObVObN_",
        "outputId": "b0c9e99b-8360-473e-caa9-f6bcb0ef17a6"
      },
      "outputs": [
        {
          "name": "stdout",
          "text": "2025-02-20 16:31:07,226 - INFO - domain: https://www.businesstoday.in/, urls: 16\n2025-02-20 16:31:10,602 - INFO - domain: https://timesofindia.indiatimes.com/, urls: 19\n2025-02-20 16:31:13,742 - INFO - domain: https://www.thehindu.com, urls: 17\n",
          "output_type": "stream"
        }
      ],
      "execution_count": null
    },
    {
      "cell_type": "markdown",
      "source": [
        "# News - Data per URL"
      ],
      "metadata": {
        "id": "qsm2wlpKObOE"
      }
    },
    {
      "cell_type": "code",
      "source": [
        "from newsfetch.news import Newspaper\n",
        "\n",
        "def fetch_article_details(url, id_suffix):\n",
        "    news = Newspaper(url=url)\n",
        "\n",
        "    headline = news.headline\n",
        "    publish_timestamp = news.date_publish\n",
        "    article = news.article\n",
        "    summary = news.summary\n",
        "\n",
        "    article_details = {\n",
        "        'identifier': f\"{news.date_publish}_{id_suffix}\",\n",
        "        'timestamp_publish': news.date_publish,\n",
        "        'headline': news.headline,\n",
        "        'summary': news.summary,\n",
        "        'article': news.article\n",
        "    }\n",
        "    return article_details"
      ],
      "metadata": {
        "trusted": true,
        "execution": {
          "iopub.status.busy": "2025-02-20T16:31:13.749284Z",
          "iopub.execute_input": "2025-02-20T16:31:13.749588Z",
          "iopub.status.idle": "2025-02-20T16:31:17.654064Z",
          "shell.execute_reply.started": "2025-02-20T16:31:13.749564Z",
          "shell.execute_reply": "2025-02-20T16:31:17.653001Z"
        },
        "id": "hxdlSW3GObOE"
      },
      "outputs": [],
      "execution_count": null
    },
    {
      "cell_type": "code",
      "source": [
        "from tqdm import tqdm\n",
        "\n",
        "data = []\n",
        "\n",
        "success = 0\n",
        "failure = 0\n",
        "total_iter = sum([len(x['urls']) for x in url_dict])\n",
        "with tqdm(total=total_iter) as pbar:\n",
        "    for url_dict_domain in url_dict:\n",
        "        domain = url_dict_domain['domain']\n",
        "        stock_name = url_dict_domain['stock_name']\n",
        "        urls = url_dict_domain['urls']\n",
        "\n",
        "        id_suffix = f\"{domain}_{stock_name}\"\n",
        "        for url in urls:\n",
        "            try:\n",
        "                article_detail = fetch_article_details(url, id_suffix)\n",
        "                data.append(article_detail)\n",
        "                success += 1\n",
        "            except Exception as err:\n",
        "                # logger.error(f\"{err} - {url}\")\n",
        "                failure += 1\n",
        "                pass\n",
        "            pbar.update(1)\n",
        "            pbar.set_description(f\"success: {success}, failure: {failure}\")"
      ],
      "metadata": {
        "trusted": true,
        "execution": {
          "iopub.status.busy": "2025-02-20T16:31:17.655308Z",
          "iopub.execute_input": "2025-02-20T16:31:17.655848Z",
          "iopub.status.idle": "2025-02-20T16:32:19.727021Z",
          "shell.execute_reply.started": "2025-02-20T16:31:17.65582Z",
          "shell.execute_reply": "2025-02-20T16:32:19.725022Z"
        },
        "id": "zqr8hbFYObOF",
        "outputId": "4b7c0742-6fce-4ab2-e095-a6d2023a87f8"
      },
      "outputs": [
        {
          "name": "stderr",
          "text": "success: 26, failure: 26: 100%|██████████| 52/52 [01:02<00:00,  1.19s/it]\n",
          "output_type": "stream"
        }
      ],
      "execution_count": null
    },
    {
      "cell_type": "markdown",
      "source": [
        "# Vector Database"
      ],
      "metadata": {
        "id": "XpFxjzKnObOG"
      }
    },
    {
      "cell_type": "code",
      "source": [
        "from pymilvus import MilvusClient\n",
        "client = MilvusClient(\"./stock_recommender.db\")\n",
        "\n",
        "collection_name = \"nr_stock_news\""
      ],
      "metadata": {
        "trusted": true,
        "execution": {
          "iopub.status.busy": "2025-02-20T16:32:19.728495Z",
          "iopub.execute_input": "2025-02-20T16:32:19.728957Z",
          "iopub.status.idle": "2025-02-20T16:32:20.975868Z",
          "shell.execute_reply.started": "2025-02-20T16:32:19.728917Z",
          "shell.execute_reply": "2025-02-20T16:32:20.97501Z"
        },
        "id": "GtsFHjJfObOG"
      },
      "outputs": [],
      "execution_count": null
    },
    {
      "cell_type": "code",
      "source": [
        "collections = client.list_collections()\n",
        "logger.info(f\"Availaible collections: {collections}\")\n",
        "\n",
        "if collection_name in collections:\n",
        "    logger.info(f\"collection ({collection_name}) : {client.get_collection_stats(collection_name)}\")\n",
        "    logger.warning(f\"Dropping collection: {collection_name}\")\n",
        "    client.drop_collection(collection_name)"
      ],
      "metadata": {
        "trusted": true,
        "execution": {
          "iopub.status.busy": "2025-02-20T16:32:20.97702Z",
          "iopub.execute_input": "2025-02-20T16:32:20.977584Z",
          "iopub.status.idle": "2025-02-20T16:32:20.996035Z",
          "shell.execute_reply.started": "2025-02-20T16:32:20.977556Z",
          "shell.execute_reply": "2025-02-20T16:32:20.994905Z"
        },
        "id": "E0TlE4nCObOH",
        "outputId": "e6cd22ec-f97a-4e41-b838-3f110d69ea16"
      },
      "outputs": [
        {
          "name": "stdout",
          "text": "2025-02-20 16:32:20,980 - INFO - Availaible collections: ['nr_stock_news']\n2025-02-20 16:32:20,983 - INFO - collection (nr_stock_news) : {'row_count': 31}\n2025-02-20 16:32:20,984 - WARNING - Dropping collection: nr_stock_news\n",
          "output_type": "stream"
        }
      ],
      "execution_count": null
    },
    {
      "cell_type": "code",
      "source": [
        "from pymilvus import MilvusClient, DataType\n",
        "\n",
        "schema = MilvusClient.create_schema(\n",
        "    auto_id=False,\n",
        "    enable_dynamic_field=False,\n",
        ")\n",
        "\n",
        "schema.add_field(field_name=\"identifier\", datatype=DataType.VARCHAR, max_length=256, is_primary=True)\n",
        "schema.add_field(field_name=\"timestamp_publish\", datatype=DataType.VARCHAR, max_length=20)\n",
        "schema.add_field(field_name=\"headline\", datatype=DataType.VARCHAR, max_length=256)\n",
        "schema.add_field(field_name=\"summary\", datatype=DataType.VARCHAR, max_length=256)\n",
        "schema.add_field(field_name=\"article\", datatype=DataType.VARCHAR, max_length=2048)\n",
        "\n",
        "client.create_collection(\n",
        "    collection_name=collection_name,\n",
        "    schema=schema\n",
        ")"
      ],
      "metadata": {
        "trusted": true,
        "execution": {
          "iopub.status.busy": "2025-02-20T16:32:20.997007Z",
          "iopub.execute_input": "2025-02-20T16:32:20.997269Z",
          "iopub.status.idle": "2025-02-20T16:32:21.011912Z",
          "shell.execute_reply.started": "2025-02-20T16:32:20.997247Z",
          "shell.execute_reply": "2025-02-20T16:32:21.010887Z"
        },
        "id": "LyMKmg87ObOI"
      },
      "outputs": [],
      "execution_count": null
    },
    {
      "cell_type": "code",
      "source": [
        "res = client.upsert(\n",
        "    collection_name=collection_name,\n",
        "    data=data\n",
        ")\n",
        "client.get_collection_stats(collection_name)"
      ],
      "metadata": {
        "trusted": true,
        "execution": {
          "iopub.status.busy": "2025-02-20T16:32:21.012929Z",
          "iopub.execute_input": "2025-02-20T16:32:21.013216Z",
          "iopub.status.idle": "2025-02-20T16:32:21.052315Z",
          "shell.execute_reply.started": "2025-02-20T16:32:21.01319Z",
          "shell.execute_reply": "2025-02-20T16:32:21.05129Z"
        },
        "id": "Yo6WftrtObOJ",
        "outputId": "1710bd42-cad0-4438-8522-cc8fdc223749"
      },
      "outputs": [
        {
          "execution_count": 11,
          "output_type": "execute_result",
          "data": {
            "text/plain": "{'row_count': 26}"
          },
          "metadata": {}
        }
      ],
      "execution_count": null
    },
    {
      "cell_type": "code",
      "source": [
        "iterator = client.query_iterator(\n",
        "    collection_name=collection_name,\n",
        "    batch_size=1,\n",
        "    output_fields=[\"identifier\"]\n",
        ")\n",
        "\n",
        "count=0\n",
        "while True:\n",
        "    result = iterator.next()\n",
        "\n",
        "    if not result:\n",
        "        iterator.close()\n",
        "        break\n",
        "    count += 1\n",
        "    print(count, result)"
      ],
      "metadata": {
        "trusted": true,
        "execution": {
          "iopub.status.busy": "2025-02-20T16:32:21.053424Z",
          "iopub.execute_input": "2025-02-20T16:32:21.053842Z",
          "iopub.status.idle": "2025-02-20T16:32:21.105316Z",
          "shell.execute_reply.started": "2025-02-20T16:32:21.053804Z",
          "shell.execute_reply": "2025-02-20T16:32:21.104192Z"
        },
        "id": "54bOnZa0ObOK",
        "outputId": "30f35bdc-f239-446b-95a6-af12234f042e"
      },
      "outputs": [
        {
          "name": "stderr",
          "text": "2025-02-20 16:32:21,064 [WARNING][__setup_ts_by_request]: failed to get mvccTs from milvus server, use client-side ts instead (iterator.py:260)\n",
          "output_type": "stream"
        },
        {
          "name": "stdout",
          "text": "1 [{'identifier': '2018-07-11 12:07:37_https://www.thehindu.com_tata motors'}]\n2 [{'identifier': '2019-02-07 15:42:24_https://www.thehindu.com_tata motors'}]\n3 [{'identifier': '2021-07-14 17:53:57_https://www.thehindu.com_tata motors'}]\n4 [{'identifier': '2021-07-30 17:25:38_https://www.thehindu.com_tata motors'}]\n5 [{'identifier': '2021-08-09 16:29:12_https://timesofindia.indiatimes.com/_tata motors'}]\n6 [{'identifier': '2022-07-09 14:48:15_https://www.thehindu.com_tata motors'}]\n7 [{'identifier': '2023-02-23 03:36:35_https://www.thehindu.com_tata motors'}]\n8 [{'identifier': '2023-10-10 15:43:21_https://www.thehindu.com_tata motors'}]\n9 [{'identifier': '2024-03-04 12:52:43_https://www.thehindu.com_tata motors'}]\n10 [{'identifier': '2024-04-10 16:13:41_https://www.thehindu.com_tata motors'}]\n11 [{'identifier': '2024-08-01 11:38:20_https://www.thehindu.com_tata motors'}]\n12 [{'identifier': '2025-01-09 14:55:51_https://www.thehindu.com_tata motors'}]\n13 [{'identifier': '2025-01-29 15:01:12_https://www.thehindu.com_tata motors'}]\n14 [{'identifier': '2025-01-31 12:11:45_https://www.businesstoday.in/_tata motors'}]\n15 [{'identifier': '2025-02-06 19:30:20_https://www.businesstoday.in/_tata motors'}]\n16 [{'identifier': '2025-02-13 09:48:29_https://www.businesstoday.in/_tata motors'}]\n17 [{'identifier': '2025-02-19 09:24:18_https://www.businesstoday.in/_tata motors'}]\n18 [{'identifier': '2025-02-19 17:03:06_https://www.businesstoday.in/_tata motors'}]\n19 [{'identifier': '2025-02-19 18:41:18_https://www.businesstoday.in/_tata motors'}]\n20 [{'identifier': '2025-02-20 11:29:27_https://www.businesstoday.in/_tata motors'}]\n",
          "output_type": "stream"
        }
      ],
      "execution_count": null
    }
  ]
}